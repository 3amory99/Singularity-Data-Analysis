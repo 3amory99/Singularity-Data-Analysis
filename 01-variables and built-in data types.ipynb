{
 "cells": [
  {
   "cell_type": "markdown",
   "metadata": {},
   "source": [
    "<html>\n",
    "<body>\n",
    "<div align=\"center\">\n",
    "<h3>Prepared by Omar Mahmoud</h3>\n",
    "    \n",
    "<h1>Built-in Data Types and Variables</h1>\n",
    "\n",
    "<h3>Note: This repository is for a personal Reference and study</h3>\n",
    "\n",
    "<h3>Follow Me on - <a href=\"https://www.linkedin.com/in/omar-mahmoud-5bb616175/\">LinkedIn</a>&nbsp; <a href=\"https://twitter.com/OmarMah25544092\">Twitter</a>&nbsp; <a href=\"https://www.instagram.com/3amory99/\">Instagram</a>&nbsp; <a href=\"https://www.facebook.com/Mora898/\">Facebook</a></h3>\n",
    "</div>\n",
    "\n",
    "</div>\n",
    "</body>\n",
    "</html>"
   ]
  },
  {
   "cell_type": "markdown",
   "metadata": {},
   "source": [
    "<html>\n",
    "<body>\n",
    "<div align=\"left\">\n",
    "<h1>Variables</h1>\n",
    "   \n",
    "</div>\n",
    "</body>\n",
    "    \n",
    "    \n",
    "**Variables are objects in Python that can hold anything with numbers or text. Let's look at how to create some variables.**\n",
    "   "
   ]
  },
  {
   "cell_type": "markdown",
   "metadata": {},
   "source": [
    "## Variable Assignment\n",
    "### We have some rules to name variables\n",
    "\n",
    "- Not allowed to start variable with a number\n",
    "- Not allowed to name your variable and it contains spaces, use _ intead\n",
    "- names can not contain any of these symbols:\n",
    "        :'\",<>/?|\\!@#%^&*~-+\n",
    "- lowercases and underscores are recommended \n",
    "- avoid using Python built-in keywords like list and str\n",
    "- avoid using the single characters l (lowercase letter el), O (uppercase letter oh) and I (uppercase letter eye) as they can be confused with 1 and 0\n",
    "\n"
   ]
  },
  {
   "cell_type": "markdown",
   "metadata": {},
   "source": [
    "<html>\n",
    "<body>\n",
    "<div align=\"left\">\n",
    "<h2>Why Built-in objects and functions?</h2>    \n",
    "</div>\n",
    "</body>\n",
    "   \n",
    "    \n",
    "Built-in objects and functions make it easy to create clean code. Since they eliminate the need to implement data structures. To solve complex problems, you can create your own objects using the built-in classes of the Python language, It's more efficient than handcrafted data structures and scratched code. Python's built-in types use already optimized data structures"
   ]
  },
  {
   "cell_type": "markdown",
   "metadata": {},
   "source": [
    "<html>\n",
    "<body>\n",
    "<div align=\"left\">\n",
    "<h4>We'll cover the following built-in data types</h4>\n",
    "   \n",
    "</div>\n",
    "</body>"
   ]
  },
  {
   "cell_type": "code",
   "execution_count": 27,
   "metadata": {},
   "outputs": [
    {
     "data": {
      "text/plain": [
       "'\\n\\n\\nNumbers (7382, 3.14, 3 + 4j, Decimal, Fraction)\\nStrings (\\'net\\', \"your\\'s\", u\\'joy \\')\\nLists ([1, [2, \\'three\\'], 4])\\nDictionaries ({\\'Alex\\': 2, \\'Brian\\': 4})\\nTuples (\\'Leo\\', 21.7, \\'single\\')\\nSets (set (1,2,3), {\\'a\\', \\'b\\', \\'c\\'})\\nFiles (open (\\'myfile\\', \\'r\\'))\\nDynamic typing\\n\\n\\n'"
      ]
     },
     "execution_count": 27,
     "metadata": {},
     "output_type": "execute_result"
    }
   ],
   "source": [
    "\"\"\"\n",
    "\n",
    "\n",
    "Numbers (7382, 3.14, 3 + 4j, Decimal, Fraction)\n",
    "Strings ('net', \"your's\", u'joy ')\n",
    "Lists ([1, [2, 'three'], 4])\n",
    "Dictionaries ({'Alex': 2, 'Brian': 4})\n",
    "Tuples ('Leo', 21.7, 'single')\n",
    "Sets (set (1,2,3), {'a', 'b', 'c'})\n",
    "Files (open ('myfile', 'r'))\n",
    "Dynamic typing\n",
    "\n",
    "\n",
    "\"\"\""
   ]
  },
  {
   "cell_type": "markdown",
   "metadata": {},
   "source": [
    "<html>\n",
    "<body>\n",
    "<div align=\"left\">\n",
    "<h2>Data Types</h2>\n",
    "<h4>int (integer</h4>\n",
    "<h4>str (string)</h4>\n",
    "<h4>bool (Boolean)</h4>\n",
    "<h4>float</h4>\n",
    "<h4>double</h4>\n",
    "<h4>set</h4>\n",
    "<h4>list</h4>\n",
    "<h4>tuple</h4>\n",
    "<h4>dict (dictionary)</h4>\n",
    "\n",
    "</div>\n",
    "</body>\n"
   ]
  },
  {
   "cell_type": "markdown",
   "metadata": {},
   "source": [
    "<html>\n",
    "<body>\n",
    "<div align=\"left\">\n",
    "<h4>We can use type funtion to identify the data types</h4>\n",
    "   \n",
    "</div>\n",
    "</body>"
   ]
  },
  {
   "cell_type": "code",
   "execution_count": 28,
   "metadata": {},
   "outputs": [
    {
     "name": "stdout",
     "output_type": "stream",
     "text": [
      "<class 'int'>\n"
     ]
    }
   ],
   "source": [
    "num = 100\n",
    "print(type(num))"
   ]
  },
  {
   "cell_type": "markdown",
   "metadata": {},
   "source": [
    "<html>\n",
    "<body>\n",
    "<div align=\"left\">\n",
    "<h3>int</h3>\n",
    "   \n",
    "</div>\n",
    "</body>"
   ]
  },
  {
   "cell_type": "code",
   "execution_count": 18,
   "metadata": {},
   "outputs": [
    {
     "name": "stdout",
     "output_type": "stream",
     "text": [
      "10\n"
     ]
    }
   ],
   "source": [
    "# Numerical example\n",
    "x = 10 \n",
    "print(x)"
   ]
  },
  {
   "cell_type": "markdown",
   "metadata": {},
   "source": [
    "<html>\n",
    "<body>\n",
    "<div align=\"left\">\n",
    "<h3>str</h3>\n",
    "   \n",
    "</div>\n",
    "</body>"
   ]
  },
  {
   "cell_type": "code",
   "execution_count": 20,
   "metadata": {},
   "outputs": [
    {
     "name": "stdout",
     "output_type": "stream",
     "text": [
      "Hello in our documentary\n"
     ]
    }
   ],
   "source": [
    "# String examble\n",
    "text = \"Hello in our documentary\"\n",
    "print(text)"
   ]
  },
  {
   "cell_type": "markdown",
   "metadata": {},
   "source": [
    "<html>\n",
    "<body>\n",
    "<div align=\"left\">\n",
    "<h3>bool</h3>\n",
    "   \n",
    "</div>\n",
    "</body>"
   ]
  },
  {
   "cell_type": "code",
   "execution_count": 24,
   "metadata": {},
   "outputs": [
    {
     "name": "stdout",
     "output_type": "stream",
     "text": [
      "<class 'bool'>\n",
      "True False\n"
     ]
    }
   ],
   "source": [
    "# Boolean examble\n",
    "is_successed = True\n",
    "is_failed = False\n",
    "print(type(is_failed))\n",
    "print(is_successed, is_failed)"
   ]
  },
  {
   "cell_type": "markdown",
   "metadata": {},
   "source": [
    "<html>\n",
    "<body>\n",
    "<div align=\"left\">\n",
    "<h3>float</h3>\n",
    "   \n",
    "</div>\n",
    "</body>"
   ]
  },
  {
   "cell_type": "code",
   "execution_count": 21,
   "metadata": {},
   "outputs": [
    {
     "name": "stdout",
     "output_type": "stream",
     "text": [
      "10.5\n"
     ]
    }
   ],
   "source": [
    "# float examble\n",
    "y = 10.5\n",
    "print(y)"
   ]
  },
  {
   "cell_type": "markdown",
   "metadata": {},
   "source": [
    "<html>\n",
    "<body>\n",
    "<div align=\"left\">\n",
    "<h3>double</h3>\n",
    "   \n",
    "</div>\n",
    "</body>"
   ]
  },
  {
   "cell_type": "code",
   "execution_count": 22,
   "metadata": {},
   "outputs": [
    {
     "name": "stdout",
     "output_type": "stream",
     "text": [
      "10.555\n"
     ]
    }
   ],
   "source": [
    "# double examble\n",
    "z = 10.5550\n",
    "print(z)"
   ]
  },
  {
   "cell_type": "markdown",
   "metadata": {},
   "source": [
    "<html>\n",
    "<body>\n",
    "<div align=\"left\">\n",
    "<h3>List  (Mutable)</h3>\n",
    "   \n",
    "</div>\n",
    "</body>\n",
    "    \n",
    "    \n",
    "<html>\n",
    "<body>\n",
    "<div align=\"left\">\n",
    "<h3>Mutable: Is the ability of objects to change their values</h3>\n",
    "   \n",
    "</div>\n",
    "</body> \n",
    "<html>\n",
    "<body>\n",
    "<div align=\"left\">\n",
    "<h3>Immutable: No change is possible over time. The value of an object cannot be changed over time</h3>\n",
    "   \n",
    "</div>\n",
    "</body>     \n"
   ]
  },
  {
   "cell_type": "code",
   "execution_count": 38,
   "metadata": {},
   "outputs": [
    {
     "name": "stdout",
     "output_type": "stream",
     "text": [
      "<class 'list'>\n",
      "[1, 2, 3]\n"
     ]
    }
   ],
   "source": [
    "# Creating a list\n",
    "array = [1, 2, 3]\n",
    "print(type(array))\n",
    "print(array)"
   ]
  },
  {
   "cell_type": "code",
   "execution_count": 40,
   "metadata": {},
   "outputs": [
    {
     "name": "stdout",
     "output_type": "stream",
     "text": [
      "[1, 2, 3, 7, 7]\n"
     ]
    }
   ],
   "source": [
    "# appending to a list\n",
    "array.append(7)\n",
    "print (array)"
   ]
  },
  {
   "cell_type": "code",
   "execution_count": 42,
   "metadata": {},
   "outputs": [
    {
     "name": "stdout",
     "output_type": "stream",
     "text": [
      "array[0]:  1\n",
      "array[1]:  2\n",
      "array[2]:  3\n",
      "array[-1]:  7\n",
      "array[-2]:  7\n"
     ]
    }
   ],
   "source": [
    "# Accessing items at specific location in a list\n",
    "print (\"array[0]: \", array[0])\n",
    "print (\"array[1]: \", array[1])\n",
    "print (\"array[2]: \", array[2])\n",
    "print (\"array[-1]: \", array[-1]) # the last item\n",
    "print (\"array[-2]: \", array[-2]) # the second to last item"
   ]
  },
  {
   "cell_type": "markdown",
   "metadata": {},
   "source": [
    "#### Slicing"
   ]
  },
  {
   "cell_type": "code",
   "execution_count": 43,
   "metadata": {},
   "outputs": [
    {
     "name": "stdout",
     "output_type": "stream",
     "text": [
      "array[:]:  [1, 2, 3, 7, 7]\n",
      "array[2:]:  [3, 7, 7]\n",
      "array[1:3]:  [2, 3]\n",
      "array[:-1]:  [1, 2, 3, 7]\n"
     ]
    }
   ],
   "source": [
    "print (\"array[:]: \", array[:])\n",
    "print (\"array[2:]: \", array[2:])\n",
    "print (\"array[1:3]: \", array[1:3])\n",
    "print (\"array[:-1]: \", array[:-1])"
   ]
  },
  {
   "cell_type": "markdown",
   "metadata": {},
   "source": [
    "<html>\n",
    "<body>\n",
    "<div align=\"left\">\n",
    "<h3>tuple  (Immutable)</h3>\n",
    "   \n",
    "</div>\n",
    "</body>"
   ]
  },
  {
   "cell_type": "code",
   "execution_count": 29,
   "metadata": {
    "scrolled": true
   },
   "outputs": [
    {
     "name": "stdout",
     "output_type": "stream",
     "text": [
      "<class 'tuple'>\n",
      "(1, 2, 31, 'a', True)\n"
     ]
    }
   ],
   "source": [
    "t = (1, 2, 31,'a',True)\n",
    "print(type(t))\n",
    "print(t)"
   ]
  },
  {
   "cell_type": "markdown",
   "metadata": {},
   "source": [
    "<html>\n",
    "<body>\n",
    "<div align=\"left\">\n",
    "<h3>dictionary  (mutable)</h3>\n",
    "</div>\n",
    "</body>"
   ]
  },
  {
   "cell_type": "code",
   "execution_count": 32,
   "metadata": {},
   "outputs": [
    {
     "name": "stdout",
     "output_type": "stream",
     "text": [
      "{'name': 'omar', 'age': 23}\n",
      "<class 'dict'>\n"
     ]
    }
   ],
   "source": [
    "dic = {'name': \"omar\", 'age': 23}\n",
    "print(dic)\n",
    "print(type(dic))"
   ]
  },
  {
   "cell_type": "markdown",
   "metadata": {},
   "source": [
    "<html>\n",
    "<body>\n",
    "<div align=\"left\">\n",
    "<h3>set  (mutable)</h3>\n",
    "</div>\n",
    "</body>"
   ]
  },
  {
   "cell_type": "code",
   "execution_count": 31,
   "metadata": {
    "scrolled": true
   },
   "outputs": [
    {
     "name": "stdout",
     "output_type": "stream",
     "text": [
      "{1, 3, 7}\n",
      "<class 'set'>\n"
     ]
    }
   ],
   "source": [
    "new_set = {1, 3, 7}\n",
    "print(new_set)\n",
    "print(type(new_set))"
   ]
  },
  {
   "cell_type": "markdown",
   "metadata": {},
   "source": [
    "## That's great keep on ✨"
   ]
  }
 ],
 "metadata": {
  "kernelspec": {
   "display_name": "Python 3",
   "language": "python",
   "name": "python3"
  },
  "language_info": {
   "codemirror_mode": {
    "name": "ipython",
    "version": 3
   },
   "file_extension": ".py",
   "mimetype": "text/x-python",
   "name": "python",
   "nbconvert_exporter": "python",
   "pygments_lexer": "ipython3",
   "version": "3.8.5"
  }
 },
 "nbformat": 4,
 "nbformat_minor": 4
}
