{
 "cells": [
  {
   "cell_type": "markdown",
   "id": "3736e6dd",
   "metadata": {},
   "source": [
    "<html>\n",
    "<body>\n",
    "<div align=\"center\">\n",
    "<h3>Prepared by Omar Mahmoud</h3>\n",
    "    \n",
    "<h1>Series</h1>\n",
    "\n",
    "<h3>Note: This repository is for a personal Reference and study</h3>\n",
    "\n",
    "<h3>Follow Me on - <a href=\"https://www.linkedin.com/in/omar-mahmoud-5bb616175/\">LinkedIn</a>&nbsp; <a href=\"https://twitter.com/OmarMah25544092\">Twitter</a>&nbsp; <a href=\"https://www.instagram.com/3amory99/\">Instagram</a>&nbsp; <a href=\"https://www.facebook.com/Mora898/\">Facebook</a></h3>\n",
    "</div>\n",
    "\n",
    "</div>\n",
    "</body>\n",
    "</html>"
   ]
  },
  {
   "cell_type": "markdown",
   "id": "32c7715d",
   "metadata": {},
   "source": [
    "# Series"
   ]
  },
  {
   "cell_type": "code",
   "execution_count": 1,
   "id": "f44ff401",
   "metadata": {},
   "outputs": [],
   "source": [
    "import numpy as np\n",
    "import pandas as pd\n",
    "import warnings\n",
    "warnings.filterwarnings(\"ignore\")"
   ]
  },
  {
   "cell_type": "markdown",
   "id": "bf2f991d",
   "metadata": {},
   "source": [
    "### Create Series"
   ]
  },
  {
   "cell_type": "code",
   "execution_count": 3,
   "id": "ee3cec8e",
   "metadata": {},
   "outputs": [],
   "source": [
    "# Create series from Nump Array\n",
    "arr = np.array([1,2,3,4,5,6,7])\n",
    "df = pd.Series(arr)"
   ]
  },
  {
   "cell_type": "code",
   "execution_count": 4,
   "id": "2c07602c",
   "metadata": {},
   "outputs": [
    {
     "data": {
      "text/plain": [
       "0    1\n",
       "1    2\n",
       "2    3\n",
       "3    4\n",
       "4    5\n",
       "5    6\n",
       "6    7\n",
       "dtype: int32"
      ]
     },
     "execution_count": 4,
     "metadata": {},
     "output_type": "execute_result"
    }
   ],
   "source": [
    "df"
   ]
  },
  {
   "cell_type": "code",
   "execution_count": 5,
   "id": "1afa4017",
   "metadata": {},
   "outputs": [
    {
     "data": {
      "text/plain": [
       "0    1\n",
       "1    2\n",
       "2    3\n",
       "3    4\n",
       "4    5\n",
       "5    6\n",
       "6    7\n",
       "dtype: int32"
      ]
     },
     "execution_count": 5,
     "metadata": {},
     "output_type": "execute_result"
    }
   ],
   "source": [
    "df = pd.Series(data = arr)\n",
    "df"
   ]
  },
  {
   "cell_type": "code",
   "execution_count": 6,
   "id": "f933a526",
   "metadata": {},
   "outputs": [
    {
     "data": {
      "text/plain": [
       "dtype('int32')"
      ]
     },
     "execution_count": 6,
     "metadata": {},
     "output_type": "execute_result"
    }
   ],
   "source": [
    "df.dtype"
   ]
  },
  {
   "cell_type": "code",
   "execution_count": 8,
   "id": "d27467bb",
   "metadata": {},
   "outputs": [
    {
     "data": {
      "text/plain": [
       "0     10\n",
       "1     20\n",
       "2     30\n",
       "3     40\n",
       "4     50\n",
       "5     60\n",
       "6     70\n",
       "7     80\n",
       "8     90\n",
       "9    100\n",
       "dtype: int64"
      ]
     },
     "execution_count": 8,
     "metadata": {},
     "output_type": "execute_result"
    }
   ],
   "source": [
    "my_list = [10,20,30,40,50,60,70,80,90,100]\n",
    "df = pd.Series(my_list)\n",
    "df"
   ]
  },
  {
   "cell_type": "code",
   "execution_count": 10,
   "id": "7ff727a5",
   "metadata": {},
   "outputs": [
    {
     "data": {
      "text/plain": [
       "10"
      ]
     },
     "execution_count": 10,
     "metadata": {},
     "output_type": "execute_result"
    }
   ],
   "source": [
    "len(df)\n"
   ]
  },
  {
   "cell_type": "code",
   "execution_count": 11,
   "id": "0808b24c",
   "metadata": {},
   "outputs": [
    {
     "data": {
      "text/plain": [
       "10"
      ]
     },
     "execution_count": 11,
     "metadata": {},
     "output_type": "execute_result"
    }
   ],
   "source": [
    "df.count()"
   ]
  },
  {
   "cell_type": "code",
   "execution_count": 15,
   "id": "ce6544ce",
   "metadata": {},
   "outputs": [
    {
     "data": {
      "text/plain": [
       "A     10\n",
       "B     20\n",
       "C     30\n",
       "D     40\n",
       "E     50\n",
       "F     60\n",
       "G     70\n",
       "H     80\n",
       "J     90\n",
       "K    100\n",
       "dtype: int64"
      ]
     },
     "execution_count": 15,
     "metadata": {},
     "output_type": "execute_result"
    }
   ],
   "source": [
    "# Modifying index in Series\n",
    "df.index=['A','B','C','D','E','F','G','H','J','K']\n",
    "df"
   ]
  },
  {
   "cell_type": "code",
   "execution_count": 17,
   "id": "448e7365",
   "metadata": {},
   "outputs": [
    {
     "data": {
      "text/plain": [
       "(array([0.72393859, 0.79168038, 0.57076476, 0.18160415, 0.17661873,\n",
       "        0.81169924, 0.37847652, 0.73798943, 0.23781411, 0.75060927]),\n",
       " array([0, 1, 2, 3, 4, 5, 6, 7, 8, 9]),\n",
       " 0    0.723939\n",
       " 1    0.791680\n",
       " 2    0.570765\n",
       " 3    0.181604\n",
       " 4    0.176619\n",
       " 5    0.811699\n",
       " 6    0.378477\n",
       " 7    0.737989\n",
       " 8    0.237814\n",
       " 9    0.750609\n",
       " dtype: float64)"
      ]
     },
     "execution_count": 17,
     "metadata": {},
     "output_type": "execute_result"
    }
   ],
   "source": [
    "# Create Series using Random and Range function\n",
    "v2 = np.random.random(10)\n",
    "ind2 = np.arange(0,10)\n",
    "s = pd.Series(v2,ind2)\n",
    "v2 , ind2 , s"
   ]
  },
  {
   "cell_type": "code",
   "execution_count": 20,
   "id": "8a752a3a",
   "metadata": {},
   "outputs": [
    {
     "data": {
      "text/plain": [
       "a     10\n",
       "b     20\n",
       "c     30\n",
       "d     40\n",
       "dtype: int64"
      ]
     },
     "execution_count": 20,
     "metadata": {},
     "output_type": "execute_result"
    }
   ],
   "source": [
    "# Creating Series from Dictionary\n",
    "dict1 = {'a' :10 , 'b' :20 , 'c':30 , 'd ':40}\n",
    "s3 = pd.Series(dict1)\n",
    "s3"
   ]
  },
  {
   "cell_type": "code",
   "execution_count": 22,
   "id": "da937d7d",
   "metadata": {},
   "outputs": [
    {
     "data": {
      "text/plain": [
       "0    99\n",
       "1    99\n",
       "2    99\n",
       "3    99\n",
       "4    99\n",
       "5    99\n",
       "dtype: int64"
      ]
     },
     "execution_count": 22,
     "metadata": {},
     "output_type": "execute_result"
    }
   ],
   "source": [
    "pd.Series(99, index=[0, 1, 2, 3, 4, 5]) "
   ]
  },
  {
   "cell_type": "markdown",
   "id": "40c209bc",
   "metadata": {},
   "source": [
    "## Slicing Series"
   ]
  },
  {
   "cell_type": "code",
   "execution_count": 24,
   "id": "38ef24c5",
   "metadata": {},
   "outputs": [
    {
     "data": {
      "text/plain": [
       "A     10\n",
       "B     20\n",
       "C     30\n",
       "D     40\n",
       "E     50\n",
       "F     60\n",
       "G     70\n",
       "H     80\n",
       "J     90\n",
       "K    100\n",
       "dtype: int64"
      ]
     },
     "execution_count": 24,
     "metadata": {},
     "output_type": "execute_result"
    }
   ],
   "source": [
    "df"
   ]
  },
  {
   "cell_type": "code",
   "execution_count": 25,
   "id": "99ec24c2",
   "metadata": {},
   "outputs": [
    {
     "data": {
      "text/plain": [
       "0    0.723939\n",
       "1    0.791680\n",
       "2    0.570765\n",
       "3    0.181604\n",
       "4    0.176619\n",
       "5    0.811699\n",
       "6    0.378477\n",
       "7    0.737989\n",
       "8    0.237814\n",
       "9    0.750609\n",
       "dtype: float64"
      ]
     },
     "execution_count": 25,
     "metadata": {},
     "output_type": "execute_result"
    }
   ],
   "source": [
    "s[:]"
   ]
  },
  {
   "cell_type": "code",
   "execution_count": 26,
   "id": "50e066b9",
   "metadata": {},
   "outputs": [
    {
     "data": {
      "text/plain": [
       "0    0.723939\n",
       "1    0.791680\n",
       "2    0.570765\n",
       "3    0.181604\n",
       "4    0.176619\n",
       "dtype: float64"
      ]
     },
     "execution_count": 26,
     "metadata": {},
     "output_type": "execute_result"
    }
   ],
   "source": [
    "s[:5]"
   ]
  },
  {
   "cell_type": "code",
   "execution_count": 28,
   "id": "c70f6dd6",
   "metadata": {},
   "outputs": [
    {
     "data": {
      "text/plain": [
       "A    10\n",
       "B    20\n",
       "C    30\n",
       "dtype: int64"
      ]
     },
     "execution_count": 28,
     "metadata": {},
     "output_type": "execute_result"
    }
   ],
   "source": [
    "# First three element of the Series\n",
    "df[0:3]"
   ]
  },
  {
   "cell_type": "code",
   "execution_count": 29,
   "id": "5d854741",
   "metadata": {},
   "outputs": [
    {
     "data": {
      "text/plain": [
       "A    10\n",
       "B    20\n",
       "C    30\n",
       "D    40\n",
       "E    50\n",
       "F    60\n",
       "G    70\n",
       "H    80\n",
       "dtype: int64"
      ]
     },
     "execution_count": 29,
     "metadata": {},
     "output_type": "execute_result"
    }
   ],
   "source": [
    "# Return all elements of the series except last two elements.\n",
    "df[:-2]"
   ]
  },
  {
   "cell_type": "code",
   "execution_count": 30,
   "id": "9da287b5",
   "metadata": {},
   "outputs": [
    {
     "data": {
      "text/plain": [
       "8    0.237814\n",
       "9    0.750609\n",
       "dtype: float64"
      ]
     },
     "execution_count": 30,
     "metadata": {},
     "output_type": "execute_result"
    }
   ],
   "source": [
    "# Return last two elements of the series\n",
    "s[-2:]"
   ]
  },
  {
   "cell_type": "markdown",
   "id": "ff58d1e3",
   "metadata": {},
   "source": [
    "## Append Series\n"
   ]
  },
  {
   "cell_type": "code",
   "execution_count": 31,
   "id": "60c2fce8",
   "metadata": {},
   "outputs": [],
   "source": [
    "df2 = df.copy()"
   ]
  },
  {
   "cell_type": "code",
   "execution_count": 33,
   "id": "c75cf333",
   "metadata": {},
   "outputs": [
    {
     "data": {
      "text/plain": [
       "A     10\n",
       "B     20\n",
       "C     30\n",
       "D     40\n",
       "E     50\n",
       "F     60\n",
       "G     70\n",
       "H     80\n",
       "J     90\n",
       "K    100\n",
       "dtype: int64"
      ]
     },
     "execution_count": 33,
     "metadata": {},
     "output_type": "execute_result"
    }
   ],
   "source": [
    "df"
   ]
  },
  {
   "cell_type": "code",
   "execution_count": 35,
   "id": "a9ccb1db",
   "metadata": {},
   "outputs": [
    {
     "data": {
      "text/plain": [
       "A     10.000000\n",
       "B     20.000000\n",
       "C     30.000000\n",
       "D     40.000000\n",
       "E     50.000000\n",
       "F     60.000000\n",
       "G     70.000000\n",
       "H     80.000000\n",
       "J     90.000000\n",
       "K    100.000000\n",
       "0      0.723939\n",
       "1      0.791680\n",
       "2      0.570765\n",
       "3      0.181604\n",
       "4      0.176619\n",
       "5      0.811699\n",
       "6      0.378477\n",
       "7      0.737989\n",
       "8      0.237814\n",
       "9      0.750609\n",
       "dtype: float64"
      ]
     },
     "execution_count": 35,
     "metadata": {},
     "output_type": "execute_result"
    }
   ],
   "source": [
    "df.append(s)"
   ]
  },
  {
   "cell_type": "code",
   "execution_count": 43,
   "id": "babc3cd7",
   "metadata": {},
   "outputs": [
    {
     "data": {
      "text/plain": [
       "A                                   10\n",
       "B                                   20\n",
       "C                                   30\n",
       "D                                   40\n",
       "E                                   50\n",
       "F                                   60\n",
       "G                                   70\n",
       "H                                   80\n",
       "J                                   90\n",
       "K                                  100\n",
       "new    [1, 2, 3, 4, 5, 6, 7, 8, 9, 10]\n",
       "dtype: object"
      ]
     },
     "execution_count": 43,
     "metadata": {},
     "output_type": "execute_result"
    }
   ],
   "source": [
    "df.new = [1,2,3,4,5,6,7,8,9,10]\n",
    "df"
   ]
  },
  {
   "cell_type": "code",
   "execution_count": 44,
   "id": "53021334",
   "metadata": {},
   "outputs": [
    {
     "data": {
      "text/plain": [
       "A     10\n",
       "B     20\n",
       "C     30\n",
       "D     40\n",
       "E     50\n",
       "F     60\n",
       "G     70\n",
       "H     80\n",
       "J     90\n",
       "K    100\n",
       "dtype: object"
      ]
     },
     "execution_count": 44,
     "metadata": {},
     "output_type": "execute_result"
    }
   ],
   "source": [
    "# When \"inplace=False\" it will return a new copy of data with the operation performed\n",
    "df.drop('new',axis=0 , inplace=False)"
   ]
  },
  {
   "cell_type": "markdown",
   "id": "c53171e0",
   "metadata": {},
   "source": [
    "## Operation on Series"
   ]
  },
  {
   "cell_type": "code",
   "execution_count": 45,
   "id": "81f7ba3d",
   "metadata": {},
   "outputs": [],
   "source": [
    "v1 = np.array([10,20,30])\n",
    "v2 = np.array([1,2,3])\n",
    "s1 = pd.Series(v1) \n",
    "s2 = pd.Series(v2)"
   ]
  },
  {
   "cell_type": "code",
   "execution_count": 46,
   "id": "836ff129",
   "metadata": {},
   "outputs": [
    {
     "data": {
      "text/plain": [
       "(0    10\n",
       " 1    20\n",
       " 2    30\n",
       " dtype: int32,\n",
       " 0    1\n",
       " 1    2\n",
       " 2    3\n",
       " dtype: int32)"
      ]
     },
     "execution_count": 46,
     "metadata": {},
     "output_type": "execute_result"
    }
   ],
   "source": [
    "s1, s2"
   ]
  },
  {
   "cell_type": "code",
   "execution_count": 47,
   "id": "9bd6a06c",
   "metadata": {},
   "outputs": [
    {
     "data": {
      "text/plain": [
       "0    11\n",
       "1    22\n",
       "2    33\n",
       "dtype: int32"
      ]
     },
     "execution_count": 47,
     "metadata": {},
     "output_type": "execute_result"
    }
   ],
   "source": [
    "# Addition of two series\n",
    "s1.add(s2)"
   ]
  },
  {
   "cell_type": "code",
   "execution_count": 48,
   "id": "3cba1206",
   "metadata": {},
   "outputs": [
    {
     "data": {
      "text/plain": [
       "0     9\n",
       "1    18\n",
       "2    27\n",
       "dtype: int32"
      ]
     },
     "execution_count": 48,
     "metadata": {},
     "output_type": "execute_result"
    }
   ],
   "source": [
    "# Subtraction of two series\n",
    "s1.sub(s2)\n",
    "# or\n",
    "# s1.subtract(s2)"
   ]
  },
  {
   "cell_type": "code",
   "execution_count": 49,
   "id": "db80763f",
   "metadata": {},
   "outputs": [
    {
     "data": {
      "text/plain": [
       "0    10\n",
       "1    40\n",
       "2    90\n",
       "dtype: int32"
      ]
     },
     "execution_count": 49,
     "metadata": {},
     "output_type": "execute_result"
    }
   ],
   "source": [
    "# Multiplication of two series\n",
    "s1.mul(s2)\n",
    "# or\n",
    "# s1.multiply(s2)"
   ]
  },
  {
   "cell_type": "code",
   "execution_count": 50,
   "id": "52998309",
   "metadata": {},
   "outputs": [
    {
     "data": {
      "text/plain": [
       "0    10.0\n",
       "1    10.0\n",
       "2    10.0\n",
       "dtype: float64"
      ]
     },
     "execution_count": 50,
     "metadata": {},
     "output_type": "execute_result"
    }
   ],
   "source": [
    "# Division of two series\n",
    "s1.divide(s2)\n",
    "# or \n",
    "# s1.div(s2)"
   ]
  },
  {
   "cell_type": "code",
   "execution_count": 51,
   "id": "01fdcace",
   "metadata": {},
   "outputs": [
    {
     "data": {
      "text/plain": [
       "False"
      ]
     },
     "execution_count": 51,
     "metadata": {},
     "output_type": "execute_result"
    }
   ],
   "source": [
    "# Series comparison\n",
    "s1.equals(s2)"
   ]
  },
  {
   "cell_type": "code",
   "execution_count": 54,
   "id": "55bb9697",
   "metadata": {},
   "outputs": [
    {
     "data": {
      "text/plain": [
       "True"
      ]
     },
     "execution_count": 54,
     "metadata": {},
     "output_type": "execute_result"
    }
   ],
   "source": [
    "# Series comparison\n",
    "s1.equals(s1)"
   ]
  },
  {
   "cell_type": "code",
   "execution_count": 64,
   "id": "94f55c8c",
   "metadata": {},
   "outputs": [
    {
     "data": {
      "text/plain": [
       "0     1\n",
       "1     1\n",
       "2     4\n",
       "3     2\n",
       "4     2\n",
       "5     4\n",
       "6     3\n",
       "7     3\n",
       "8     1\n",
       "9     2\n",
       "10    2\n",
       "11    3\n",
       "12    3\n",
       "dtype: int64"
      ]
     },
     "execution_count": 64,
     "metadata": {},
     "output_type": "execute_result"
    }
   ],
   "source": [
    "s = pd.Series([1,1,4,2,2,4,3,3,1,2,2,3,3], index=[0, 1, 2, 3, 4, 5,6,7,8,9,10,11,12])\n",
    "s"
   ]
  },
  {
   "cell_type": "code",
   "execution_count": 65,
   "id": "5228fbe4",
   "metadata": {},
   "outputs": [
    {
     "data": {
      "text/plain": [
       "2    4\n",
       "3    4\n",
       "1    3\n",
       "4    2\n",
       "dtype: int64"
      ]
     },
     "execution_count": 65,
     "metadata": {},
     "output_type": "execute_result"
    }
   ],
   "source": [
    "s.value_counts()\n"
   ]
  },
  {
   "cell_type": "markdown",
   "id": "d603ea93",
   "metadata": {},
   "source": [
    "## That's great keep on ✨"
   ]
  }
 ],
 "metadata": {
  "kernelspec": {
   "display_name": "Python 3 (ipykernel)",
   "language": "python",
   "name": "python3"
  },
  "language_info": {
   "codemirror_mode": {
    "name": "ipython",
    "version": 3
   },
   "file_extension": ".py",
   "mimetype": "text/x-python",
   "name": "python",
   "nbconvert_exporter": "python",
   "pygments_lexer": "ipython3",
   "version": "3.9.7"
  }
 },
 "nbformat": 4,
 "nbformat_minor": 5
}
