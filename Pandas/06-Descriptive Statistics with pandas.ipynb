{
 "cells": [
  {
   "cell_type": "markdown",
   "id": "45b14bdf",
   "metadata": {},
   "source": [
    "<html>\n",
    "<body>\n",
    "<div align=\"center\">\n",
    "<h3>Prepared by Omar Mahmoud</h3>\n",
    "    \n",
    "<h1>Descriptive Statistics with pandas</h1>\n",
    "\n",
    "<h3>Note: This repository is for a personal Reference and study</h3>\n",
    "\n",
    "<h3>Follow Me on - <a href=\"https://www.linkedin.com/in/omar-mahmoud-5bb616175/\">LinkedIn</a>&nbsp; <a href=\"https://twitter.com/OmarMah25544092\">Twitter</a>&nbsp; <a href=\"https://www.instagram.com/3amory99/\">Instagram</a>&nbsp; <a href=\"https://www.facebook.com/Mora898/\">Facebook</a></h3>\n",
    "</div>\n",
    "\n",
    "</div>\n",
    "</body>\n",
    "</html>"
   ]
  },
  {
   "cell_type": "markdown",
   "id": "95fc5e78",
   "metadata": {},
   "source": [
    "This image indicate the **Analytics Levels**   <img src=\"analytics levels.png\" width=500 height=500 />"
   ]
  },
  {
   "cell_type": "markdown",
   "id": "90400b8b",
   "metadata": {},
   "source": [
    "# Descriptive Statistics\n",
    "- **Descriptive statistics is about describing our collected data.**"
   ]
  },
  {
   "cell_type": "code",
   "execution_count": 27,
   "id": "aab7d71d",
   "metadata": {},
   "outputs": [],
   "source": [
    "# Import libs\n",
    "import numpy as np\n",
    "import pandas as pd\n",
    "import statistics as st"
   ]
  },
  {
   "cell_type": "code",
   "execution_count": 2,
   "id": "01671285",
   "metadata": {},
   "outputs": [],
   "source": [
    "import warnings\n",
    "warnings.filterwarnings(\"ignore\")"
   ]
  },
  {
   "cell_type": "code",
   "execution_count": 3,
   "id": "0be466a6",
   "metadata": {},
   "outputs": [],
   "source": [
    "nums = np.random.rand(7,7)\n",
    "df = pd.DataFrame(nums, \n",
    "                  index = ['2021-01-20','2021-01-21','2021-01-22','2021-01-23','2021-01-24','2021-01-25','2021-01-26'],\n",
    "                  columns = ['C1','C2','C3','C4','C5','C6','C7'])"
   ]
  },
  {
   "cell_type": "code",
   "execution_count": 4,
   "id": "55fc6d9d",
   "metadata": {},
   "outputs": [
    {
     "data": {
      "text/html": [
       "<div>\n",
       "<style scoped>\n",
       "    .dataframe tbody tr th:only-of-type {\n",
       "        vertical-align: middle;\n",
       "    }\n",
       "\n",
       "    .dataframe tbody tr th {\n",
       "        vertical-align: top;\n",
       "    }\n",
       "\n",
       "    .dataframe thead th {\n",
       "        text-align: right;\n",
       "    }\n",
       "</style>\n",
       "<table border=\"1\" class=\"dataframe\">\n",
       "  <thead>\n",
       "    <tr style=\"text-align: right;\">\n",
       "      <th></th>\n",
       "      <th>C1</th>\n",
       "      <th>C2</th>\n",
       "      <th>C3</th>\n",
       "      <th>C4</th>\n",
       "      <th>C5</th>\n",
       "      <th>C6</th>\n",
       "      <th>C7</th>\n",
       "    </tr>\n",
       "  </thead>\n",
       "  <tbody>\n",
       "    <tr>\n",
       "      <th>2021-01-20</th>\n",
       "      <td>0.413290</td>\n",
       "      <td>0.348892</td>\n",
       "      <td>0.869436</td>\n",
       "      <td>0.479128</td>\n",
       "      <td>0.756309</td>\n",
       "      <td>0.430769</td>\n",
       "      <td>0.046079</td>\n",
       "    </tr>\n",
       "    <tr>\n",
       "      <th>2021-01-21</th>\n",
       "      <td>0.454507</td>\n",
       "      <td>0.132334</td>\n",
       "      <td>0.108046</td>\n",
       "      <td>0.324602</td>\n",
       "      <td>0.355205</td>\n",
       "      <td>0.921280</td>\n",
       "      <td>0.300431</td>\n",
       "    </tr>\n",
       "    <tr>\n",
       "      <th>2021-01-22</th>\n",
       "      <td>0.781750</td>\n",
       "      <td>0.496229</td>\n",
       "      <td>0.541564</td>\n",
       "      <td>0.695929</td>\n",
       "      <td>0.971040</td>\n",
       "      <td>0.585808</td>\n",
       "      <td>0.282532</td>\n",
       "    </tr>\n",
       "    <tr>\n",
       "      <th>2021-01-23</th>\n",
       "      <td>0.575860</td>\n",
       "      <td>0.532322</td>\n",
       "      <td>0.799161</td>\n",
       "      <td>0.469688</td>\n",
       "      <td>0.341546</td>\n",
       "      <td>0.782251</td>\n",
       "      <td>0.586273</td>\n",
       "    </tr>\n",
       "    <tr>\n",
       "      <th>2021-01-24</th>\n",
       "      <td>0.104848</td>\n",
       "      <td>0.570518</td>\n",
       "      <td>0.574759</td>\n",
       "      <td>0.901717</td>\n",
       "      <td>0.224441</td>\n",
       "      <td>0.463105</td>\n",
       "      <td>0.938752</td>\n",
       "    </tr>\n",
       "    <tr>\n",
       "      <th>2021-01-25</th>\n",
       "      <td>0.760704</td>\n",
       "      <td>0.703987</td>\n",
       "      <td>0.201234</td>\n",
       "      <td>0.425933</td>\n",
       "      <td>0.005294</td>\n",
       "      <td>0.417079</td>\n",
       "      <td>0.536775</td>\n",
       "    </tr>\n",
       "    <tr>\n",
       "      <th>2021-01-26</th>\n",
       "      <td>0.007171</td>\n",
       "      <td>0.202669</td>\n",
       "      <td>0.952872</td>\n",
       "      <td>0.096232</td>\n",
       "      <td>0.197382</td>\n",
       "      <td>0.528075</td>\n",
       "      <td>0.263743</td>\n",
       "    </tr>\n",
       "  </tbody>\n",
       "</table>\n",
       "</div>"
      ],
      "text/plain": [
       "                  C1        C2        C3        C4        C5        C6  \\\n",
       "2021-01-20  0.413290  0.348892  0.869436  0.479128  0.756309  0.430769   \n",
       "2021-01-21  0.454507  0.132334  0.108046  0.324602  0.355205  0.921280   \n",
       "2021-01-22  0.781750  0.496229  0.541564  0.695929  0.971040  0.585808   \n",
       "2021-01-23  0.575860  0.532322  0.799161  0.469688  0.341546  0.782251   \n",
       "2021-01-24  0.104848  0.570518  0.574759  0.901717  0.224441  0.463105   \n",
       "2021-01-25  0.760704  0.703987  0.201234  0.425933  0.005294  0.417079   \n",
       "2021-01-26  0.007171  0.202669  0.952872  0.096232  0.197382  0.528075   \n",
       "\n",
       "                  C7  \n",
       "2021-01-20  0.046079  \n",
       "2021-01-21  0.300431  \n",
       "2021-01-22  0.282532  \n",
       "2021-01-23  0.586273  \n",
       "2021-01-24  0.938752  \n",
       "2021-01-25  0.536775  \n",
       "2021-01-26  0.263743  "
      ]
     },
     "execution_count": 4,
     "metadata": {},
     "output_type": "execute_result"
    }
   ],
   "source": [
    "df"
   ]
  },
  {
   "cell_type": "code",
   "execution_count": 5,
   "id": "230764ab",
   "metadata": {},
   "outputs": [],
   "source": [
    "df.at[:, 'C8'] = np.NaN\n",
    "df.at[0:2 , 'C6'] = np.NaN\n",
    "df.at[5:7 , 'C5'] = np.NaN\n",
    "df.at[1:4 , 'C2'] = np.NaN\n",
    "df.at[['2021-01-24','2021-01-25'] , 'C1'] = np.NaN"
   ]
  },
  {
   "cell_type": "code",
   "execution_count": 6,
   "id": "22bc5735",
   "metadata": {},
   "outputs": [
    {
     "data": {
      "text/html": [
       "<div>\n",
       "<style scoped>\n",
       "    .dataframe tbody tr th:only-of-type {\n",
       "        vertical-align: middle;\n",
       "    }\n",
       "\n",
       "    .dataframe tbody tr th {\n",
       "        vertical-align: top;\n",
       "    }\n",
       "\n",
       "    .dataframe thead th {\n",
       "        text-align: right;\n",
       "    }\n",
       "</style>\n",
       "<table border=\"1\" class=\"dataframe\">\n",
       "  <thead>\n",
       "    <tr style=\"text-align: right;\">\n",
       "      <th></th>\n",
       "      <th>C1</th>\n",
       "      <th>C2</th>\n",
       "      <th>C3</th>\n",
       "      <th>C4</th>\n",
       "      <th>C5</th>\n",
       "      <th>C6</th>\n",
       "      <th>C7</th>\n",
       "      <th>C8</th>\n",
       "    </tr>\n",
       "  </thead>\n",
       "  <tbody>\n",
       "    <tr>\n",
       "      <th>2021-01-20</th>\n",
       "      <td>0.413290</td>\n",
       "      <td>0.348892</td>\n",
       "      <td>0.869436</td>\n",
       "      <td>0.479128</td>\n",
       "      <td>0.756309</td>\n",
       "      <td>NaN</td>\n",
       "      <td>0.046079</td>\n",
       "      <td>NaN</td>\n",
       "    </tr>\n",
       "    <tr>\n",
       "      <th>2021-01-21</th>\n",
       "      <td>0.454507</td>\n",
       "      <td>NaN</td>\n",
       "      <td>0.108046</td>\n",
       "      <td>0.324602</td>\n",
       "      <td>0.355205</td>\n",
       "      <td>NaN</td>\n",
       "      <td>0.300431</td>\n",
       "      <td>NaN</td>\n",
       "    </tr>\n",
       "    <tr>\n",
       "      <th>2021-01-22</th>\n",
       "      <td>0.781750</td>\n",
       "      <td>NaN</td>\n",
       "      <td>0.541564</td>\n",
       "      <td>0.695929</td>\n",
       "      <td>0.971040</td>\n",
       "      <td>0.585808</td>\n",
       "      <td>0.282532</td>\n",
       "      <td>NaN</td>\n",
       "    </tr>\n",
       "    <tr>\n",
       "      <th>2021-01-23</th>\n",
       "      <td>0.575860</td>\n",
       "      <td>NaN</td>\n",
       "      <td>0.799161</td>\n",
       "      <td>0.469688</td>\n",
       "      <td>0.341546</td>\n",
       "      <td>0.782251</td>\n",
       "      <td>0.586273</td>\n",
       "      <td>NaN</td>\n",
       "    </tr>\n",
       "    <tr>\n",
       "      <th>2021-01-24</th>\n",
       "      <td>NaN</td>\n",
       "      <td>0.570518</td>\n",
       "      <td>0.574759</td>\n",
       "      <td>0.901717</td>\n",
       "      <td>0.224441</td>\n",
       "      <td>0.463105</td>\n",
       "      <td>0.938752</td>\n",
       "      <td>NaN</td>\n",
       "    </tr>\n",
       "    <tr>\n",
       "      <th>2021-01-25</th>\n",
       "      <td>NaN</td>\n",
       "      <td>0.703987</td>\n",
       "      <td>0.201234</td>\n",
       "      <td>0.425933</td>\n",
       "      <td>NaN</td>\n",
       "      <td>0.417079</td>\n",
       "      <td>0.536775</td>\n",
       "      <td>NaN</td>\n",
       "    </tr>\n",
       "    <tr>\n",
       "      <th>2021-01-26</th>\n",
       "      <td>0.007171</td>\n",
       "      <td>0.202669</td>\n",
       "      <td>0.952872</td>\n",
       "      <td>0.096232</td>\n",
       "      <td>NaN</td>\n",
       "      <td>0.528075</td>\n",
       "      <td>0.263743</td>\n",
       "      <td>NaN</td>\n",
       "    </tr>\n",
       "  </tbody>\n",
       "</table>\n",
       "</div>"
      ],
      "text/plain": [
       "                  C1        C2        C3        C4        C5        C6  \\\n",
       "2021-01-20  0.413290  0.348892  0.869436  0.479128  0.756309       NaN   \n",
       "2021-01-21  0.454507       NaN  0.108046  0.324602  0.355205       NaN   \n",
       "2021-01-22  0.781750       NaN  0.541564  0.695929  0.971040  0.585808   \n",
       "2021-01-23  0.575860       NaN  0.799161  0.469688  0.341546  0.782251   \n",
       "2021-01-24       NaN  0.570518  0.574759  0.901717  0.224441  0.463105   \n",
       "2021-01-25       NaN  0.703987  0.201234  0.425933       NaN  0.417079   \n",
       "2021-01-26  0.007171  0.202669  0.952872  0.096232       NaN  0.528075   \n",
       "\n",
       "                  C7  C8  \n",
       "2021-01-20  0.046079 NaN  \n",
       "2021-01-21  0.300431 NaN  \n",
       "2021-01-22  0.282532 NaN  \n",
       "2021-01-23  0.586273 NaN  \n",
       "2021-01-24  0.938752 NaN  \n",
       "2021-01-25  0.536775 NaN  \n",
       "2021-01-26  0.263743 NaN  "
      ]
     },
     "execution_count": 6,
     "metadata": {},
     "output_type": "execute_result"
    }
   ],
   "source": [
    "df"
   ]
  },
  {
   "cell_type": "code",
   "execution_count": 7,
   "id": "4c204767",
   "metadata": {},
   "outputs": [
    {
     "data": {
      "text/html": [
       "<div>\n",
       "<style scoped>\n",
       "    .dataframe tbody tr th:only-of-type {\n",
       "        vertical-align: middle;\n",
       "    }\n",
       "\n",
       "    .dataframe tbody tr th {\n",
       "        vertical-align: top;\n",
       "    }\n",
       "\n",
       "    .dataframe thead th {\n",
       "        text-align: right;\n",
       "    }\n",
       "</style>\n",
       "<table border=\"1\" class=\"dataframe\">\n",
       "  <thead>\n",
       "    <tr style=\"text-align: right;\">\n",
       "      <th></th>\n",
       "      <th>C1</th>\n",
       "      <th>C2</th>\n",
       "      <th>C3</th>\n",
       "      <th>C4</th>\n",
       "      <th>C5</th>\n",
       "      <th>C6</th>\n",
       "      <th>C7</th>\n",
       "      <th>C8</th>\n",
       "    </tr>\n",
       "  </thead>\n",
       "  <tbody>\n",
       "    <tr>\n",
       "      <th>2021-01-20</th>\n",
       "      <td>0.413290</td>\n",
       "      <td>0.348892</td>\n",
       "      <td>0.869436</td>\n",
       "      <td>0.479128</td>\n",
       "      <td>0.756309</td>\n",
       "      <td>20.000000</td>\n",
       "      <td>0.046079</td>\n",
       "      <td>20.0</td>\n",
       "    </tr>\n",
       "    <tr>\n",
       "      <th>2021-01-21</th>\n",
       "      <td>0.454507</td>\n",
       "      <td>20.000000</td>\n",
       "      <td>0.108046</td>\n",
       "      <td>0.324602</td>\n",
       "      <td>0.355205</td>\n",
       "      <td>20.000000</td>\n",
       "      <td>0.300431</td>\n",
       "      <td>20.0</td>\n",
       "    </tr>\n",
       "    <tr>\n",
       "      <th>2021-01-22</th>\n",
       "      <td>0.781750</td>\n",
       "      <td>20.000000</td>\n",
       "      <td>0.541564</td>\n",
       "      <td>0.695929</td>\n",
       "      <td>0.971040</td>\n",
       "      <td>0.585808</td>\n",
       "      <td>0.282532</td>\n",
       "      <td>20.0</td>\n",
       "    </tr>\n",
       "    <tr>\n",
       "      <th>2021-01-23</th>\n",
       "      <td>0.575860</td>\n",
       "      <td>20.000000</td>\n",
       "      <td>0.799161</td>\n",
       "      <td>0.469688</td>\n",
       "      <td>0.341546</td>\n",
       "      <td>0.782251</td>\n",
       "      <td>0.586273</td>\n",
       "      <td>20.0</td>\n",
       "    </tr>\n",
       "    <tr>\n",
       "      <th>2021-01-24</th>\n",
       "      <td>20.000000</td>\n",
       "      <td>0.570518</td>\n",
       "      <td>0.574759</td>\n",
       "      <td>0.901717</td>\n",
       "      <td>0.224441</td>\n",
       "      <td>0.463105</td>\n",
       "      <td>0.938752</td>\n",
       "      <td>20.0</td>\n",
       "    </tr>\n",
       "    <tr>\n",
       "      <th>2021-01-25</th>\n",
       "      <td>20.000000</td>\n",
       "      <td>0.703987</td>\n",
       "      <td>0.201234</td>\n",
       "      <td>0.425933</td>\n",
       "      <td>20.000000</td>\n",
       "      <td>0.417079</td>\n",
       "      <td>0.536775</td>\n",
       "      <td>20.0</td>\n",
       "    </tr>\n",
       "    <tr>\n",
       "      <th>2021-01-26</th>\n",
       "      <td>0.007171</td>\n",
       "      <td>0.202669</td>\n",
       "      <td>0.952872</td>\n",
       "      <td>0.096232</td>\n",
       "      <td>20.000000</td>\n",
       "      <td>0.528075</td>\n",
       "      <td>0.263743</td>\n",
       "      <td>20.0</td>\n",
       "    </tr>\n",
       "  </tbody>\n",
       "</table>\n",
       "</div>"
      ],
      "text/plain": [
       "                   C1         C2        C3        C4         C5         C6  \\\n",
       "2021-01-20   0.413290   0.348892  0.869436  0.479128   0.756309  20.000000   \n",
       "2021-01-21   0.454507  20.000000  0.108046  0.324602   0.355205  20.000000   \n",
       "2021-01-22   0.781750  20.000000  0.541564  0.695929   0.971040   0.585808   \n",
       "2021-01-23   0.575860  20.000000  0.799161  0.469688   0.341546   0.782251   \n",
       "2021-01-24  20.000000   0.570518  0.574759  0.901717   0.224441   0.463105   \n",
       "2021-01-25  20.000000   0.703987  0.201234  0.425933  20.000000   0.417079   \n",
       "2021-01-26   0.007171   0.202669  0.952872  0.096232  20.000000   0.528075   \n",
       "\n",
       "                  C7    C8  \n",
       "2021-01-20  0.046079  20.0  \n",
       "2021-01-21  0.300431  20.0  \n",
       "2021-01-22  0.282532  20.0  \n",
       "2021-01-23  0.586273  20.0  \n",
       "2021-01-24  0.938752  20.0  \n",
       "2021-01-25  0.536775  20.0  \n",
       "2021-01-26  0.263743  20.0  "
      ]
     },
     "execution_count": 7,
     "metadata": {},
     "output_type": "execute_result"
    }
   ],
   "source": [
    "# Fill NULL values with 20\n",
    "df.fillna(20 , inplace=True)\n",
    "df"
   ]
  },
  {
   "cell_type": "code",
   "execution_count": 8,
   "id": "443477ce",
   "metadata": {},
   "outputs": [
    {
     "data": {
      "text/plain": [
       "C1     6.033225\n",
       "C2     8.832295\n",
       "C3     0.578153\n",
       "C4     0.484747\n",
       "C5     6.092649\n",
       "C6     6.110903\n",
       "C7     0.422084\n",
       "C8    20.000000\n",
       "dtype: float64"
      ]
     },
     "execution_count": 8,
     "metadata": {},
     "output_type": "execute_result"
    }
   ],
   "source": [
    "# Mean of all Columns\n",
    "df.mean()"
   ]
  },
  {
   "cell_type": "code",
   "execution_count": 9,
   "id": "34d5238d",
   "metadata": {},
   "outputs": [
    {
     "data": {
      "text/plain": [
       "C1    20.000000\n",
       "C2    20.000000\n",
       "C3     0.952872\n",
       "C4     0.901717\n",
       "C5    20.000000\n",
       "C6    20.000000\n",
       "C7     0.938752\n",
       "C8    20.000000\n",
       "dtype: float64"
      ]
     },
     "execution_count": 9,
     "metadata": {},
     "output_type": "execute_result"
    }
   ],
   "source": [
    "# Max value per column\n",
    "df.max()"
   ]
  },
  {
   "cell_type": "code",
   "execution_count": 10,
   "id": "070f1d93",
   "metadata": {},
   "outputs": [
    {
     "data": {
      "text/plain": [
       "C1     0.007171\n",
       "C2     0.202669\n",
       "C3     0.108046\n",
       "C4     0.096232\n",
       "C5     0.224441\n",
       "C6     0.417079\n",
       "C7     0.046079\n",
       "C8    20.000000\n",
       "dtype: float64"
      ]
     },
     "execution_count": 10,
     "metadata": {},
     "output_type": "execute_result"
    }
   ],
   "source": [
    "# Min value per column\n",
    "df.min()"
   ]
  },
  {
   "cell_type": "code",
   "execution_count": 11,
   "id": "b11db3c6",
   "metadata": {},
   "outputs": [
    {
     "data": {
      "text/plain": [
       "C1     0.575860\n",
       "C2     0.703987\n",
       "C3     0.574759\n",
       "C4     0.469688\n",
       "C5     0.756309\n",
       "C6     0.585808\n",
       "C7     0.300431\n",
       "C8    20.000000\n",
       "dtype: float64"
      ]
     },
     "execution_count": 11,
     "metadata": {},
     "output_type": "execute_result"
    }
   ],
   "source": [
    "# Median \n",
    "df.median()"
   ]
  },
  {
   "cell_type": "code",
   "execution_count": 12,
   "id": "6cc09633",
   "metadata": {},
   "outputs": [
    {
     "data": {
      "text/plain": [
       "C1     9.543947\n",
       "C2    10.447630\n",
       "C3     0.326222\n",
       "C4     0.257802\n",
       "C5     9.504083\n",
       "C6     9.488769\n",
       "C7     0.290913\n",
       "C8     0.000000\n",
       "dtype: float64"
      ]
     },
     "execution_count": 12,
     "metadata": {},
     "output_type": "execute_result"
    }
   ],
   "source": [
    "# Standard Deviation\n",
    "df.std()"
   ]
  },
  {
   "cell_type": "code",
   "execution_count": 13,
   "id": "93139d8e",
   "metadata": {},
   "outputs": [
    {
     "data": {
      "text/plain": [
       "C1     91.086920\n",
       "C2    109.152971\n",
       "C3      0.106421\n",
       "C4      0.066462\n",
       "C5     90.327589\n",
       "C6     90.036743\n",
       "C7      0.084631\n",
       "C8      0.000000\n",
       "dtype: float64"
      ]
     },
     "execution_count": 13,
     "metadata": {},
     "output_type": "execute_result"
    }
   ],
   "source": [
    "# Variance \n",
    "df.var()"
   ]
  },
  {
   "cell_type": "code",
   "execution_count": 14,
   "id": "f32e9a38",
   "metadata": {},
   "outputs": [
    {
     "data": {
      "text/plain": [
       "C1     0.433899\n",
       "C2     0.459705\n",
       "C3     0.371399\n",
       "C4     0.375268\n",
       "C5     0.348376\n",
       "C6     0.495590\n",
       "C7     0.273137\n",
       "C8    20.000000\n",
       "Name: 0.25, dtype: float64"
      ]
     },
     "execution_count": 14,
     "metadata": {},
     "output_type": "execute_result"
    }
   ],
   "source": [
    "# Lower Quartile / First Quartile\n",
    "df.quantile(0.25) "
   ]
  },
  {
   "cell_type": "code",
   "execution_count": 15,
   "id": "2494e5f8",
   "metadata": {},
   "outputs": [
    {
     "data": {
      "text/plain": [
       "C1    10.390875\n",
       "C2    20.000000\n",
       "C3     0.834299\n",
       "C4     0.587528\n",
       "C5    10.485520\n",
       "C6    10.391125\n",
       "C7     0.561524\n",
       "C8    20.000000\n",
       "Name: 0.75, dtype: float64"
      ]
     },
     "execution_count": 15,
     "metadata": {},
     "output_type": "execute_result"
    }
   ],
   "source": [
    "# Lower Quartile / Third Quartile\n",
    "df.quantile(0.75) "
   ]
  },
  {
   "cell_type": "code",
   "execution_count": 16,
   "id": "ffa3f811",
   "metadata": {},
   "outputs": [
    {
     "data": {
      "text/plain": [
       "C1     9.956976\n",
       "C2    19.540295\n",
       "C3     0.462900\n",
       "C4     0.212261\n",
       "C5    10.137144\n",
       "C6     9.895535\n",
       "C7     0.288386\n",
       "C8     0.000000\n",
       "dtype: float64"
      ]
     },
     "execution_count": 16,
     "metadata": {},
     "output_type": "execute_result"
    }
   ],
   "source": [
    "# IQR (Interquartile Range)\n",
    "df.quantile(0.75) - df.quantile(0.25)"
   ]
  },
  {
   "cell_type": "code",
   "execution_count": 17,
   "id": "5943df77",
   "metadata": {},
   "outputs": [
    {
     "data": {
      "text/plain": [
       "C1     42.232578\n",
       "C2     61.826066\n",
       "C3      4.047072\n",
       "C4      3.393229\n",
       "C5     42.648541\n",
       "C6     42.776318\n",
       "C7      2.954585\n",
       "C8    140.000000\n",
       "dtype: float64"
      ]
     },
     "execution_count": 17,
     "metadata": {},
     "output_type": "execute_result"
    }
   ],
   "source": [
    "# SUM of column values\n",
    "df.sum()"
   ]
  },
  {
   "cell_type": "code",
   "execution_count": 18,
   "id": "b7fd2bce",
   "metadata": {},
   "outputs": [
    {
     "data": {
      "text/plain": [
       "C2    8.832295\n",
       "C3    0.578153\n",
       "dtype: float64"
      ]
     },
     "execution_count": 18,
     "metadata": {},
     "output_type": "execute_result"
    }
   ],
   "source": [
    "# SUM of column values\n",
    "df.loc[:,['C2','C3']].mean()"
   ]
  },
  {
   "cell_type": "code",
   "execution_count": 19,
   "id": "b7adc7b0",
   "metadata": {},
   "outputs": [
    {
     "data": {
      "text/html": [
       "<div>\n",
       "<style scoped>\n",
       "    .dataframe tbody tr th:only-of-type {\n",
       "        vertical-align: middle;\n",
       "    }\n",
       "\n",
       "    .dataframe tbody tr th {\n",
       "        vertical-align: top;\n",
       "    }\n",
       "\n",
       "    .dataframe thead th {\n",
       "        text-align: right;\n",
       "    }\n",
       "</style>\n",
       "<table border=\"1\" class=\"dataframe\">\n",
       "  <thead>\n",
       "    <tr style=\"text-align: right;\">\n",
       "      <th></th>\n",
       "      <th>C1</th>\n",
       "      <th>C2</th>\n",
       "      <th>C3</th>\n",
       "      <th>C4</th>\n",
       "      <th>C5</th>\n",
       "      <th>C6</th>\n",
       "      <th>C7</th>\n",
       "      <th>C8</th>\n",
       "    </tr>\n",
       "  </thead>\n",
       "  <tbody>\n",
       "    <tr>\n",
       "      <th>count</th>\n",
       "      <td>7.000000</td>\n",
       "      <td>7.000000</td>\n",
       "      <td>7.000000</td>\n",
       "      <td>7.000000</td>\n",
       "      <td>7.000000</td>\n",
       "      <td>7.000000</td>\n",
       "      <td>7.000000</td>\n",
       "      <td>7.0</td>\n",
       "    </tr>\n",
       "    <tr>\n",
       "      <th>mean</th>\n",
       "      <td>6.033225</td>\n",
       "      <td>8.832295</td>\n",
       "      <td>0.578153</td>\n",
       "      <td>0.484747</td>\n",
       "      <td>6.092649</td>\n",
       "      <td>6.110903</td>\n",
       "      <td>0.422084</td>\n",
       "      <td>20.0</td>\n",
       "    </tr>\n",
       "    <tr>\n",
       "      <th>std</th>\n",
       "      <td>9.543947</td>\n",
       "      <td>10.447630</td>\n",
       "      <td>0.326222</td>\n",
       "      <td>0.257802</td>\n",
       "      <td>9.504083</td>\n",
       "      <td>9.488769</td>\n",
       "      <td>0.290913</td>\n",
       "      <td>0.0</td>\n",
       "    </tr>\n",
       "    <tr>\n",
       "      <th>min</th>\n",
       "      <td>0.007171</td>\n",
       "      <td>0.202669</td>\n",
       "      <td>0.108046</td>\n",
       "      <td>0.096232</td>\n",
       "      <td>0.224441</td>\n",
       "      <td>0.417079</td>\n",
       "      <td>0.046079</td>\n",
       "      <td>20.0</td>\n",
       "    </tr>\n",
       "    <tr>\n",
       "      <th>25%</th>\n",
       "      <td>0.433899</td>\n",
       "      <td>0.459705</td>\n",
       "      <td>0.371399</td>\n",
       "      <td>0.375268</td>\n",
       "      <td>0.348376</td>\n",
       "      <td>0.495590</td>\n",
       "      <td>0.273137</td>\n",
       "      <td>20.0</td>\n",
       "    </tr>\n",
       "    <tr>\n",
       "      <th>50%</th>\n",
       "      <td>0.575860</td>\n",
       "      <td>0.703987</td>\n",
       "      <td>0.574759</td>\n",
       "      <td>0.469688</td>\n",
       "      <td>0.756309</td>\n",
       "      <td>0.585808</td>\n",
       "      <td>0.300431</td>\n",
       "      <td>20.0</td>\n",
       "    </tr>\n",
       "    <tr>\n",
       "      <th>75%</th>\n",
       "      <td>10.390875</td>\n",
       "      <td>20.000000</td>\n",
       "      <td>0.834299</td>\n",
       "      <td>0.587528</td>\n",
       "      <td>10.485520</td>\n",
       "      <td>10.391125</td>\n",
       "      <td>0.561524</td>\n",
       "      <td>20.0</td>\n",
       "    </tr>\n",
       "    <tr>\n",
       "      <th>max</th>\n",
       "      <td>20.000000</td>\n",
       "      <td>20.000000</td>\n",
       "      <td>0.952872</td>\n",
       "      <td>0.901717</td>\n",
       "      <td>20.000000</td>\n",
       "      <td>20.000000</td>\n",
       "      <td>0.938752</td>\n",
       "      <td>20.0</td>\n",
       "    </tr>\n",
       "  </tbody>\n",
       "</table>\n",
       "</div>"
      ],
      "text/plain": [
       "              C1         C2        C3        C4         C5         C6  \\\n",
       "count   7.000000   7.000000  7.000000  7.000000   7.000000   7.000000   \n",
       "mean    6.033225   8.832295  0.578153  0.484747   6.092649   6.110903   \n",
       "std     9.543947  10.447630  0.326222  0.257802   9.504083   9.488769   \n",
       "min     0.007171   0.202669  0.108046  0.096232   0.224441   0.417079   \n",
       "25%     0.433899   0.459705  0.371399  0.375268   0.348376   0.495590   \n",
       "50%     0.575860   0.703987  0.574759  0.469688   0.756309   0.585808   \n",
       "75%    10.390875  20.000000  0.834299  0.587528  10.485520  10.391125   \n",
       "max    20.000000  20.000000  0.952872  0.901717  20.000000  20.000000   \n",
       "\n",
       "             C7    C8  \n",
       "count  7.000000   7.0  \n",
       "mean   0.422084  20.0  \n",
       "std    0.290913   0.0  \n",
       "min    0.046079  20.0  \n",
       "25%    0.273137  20.0  \n",
       "50%    0.300431  20.0  \n",
       "75%    0.561524  20.0  \n",
       "max    0.938752  20.0  "
      ]
     },
     "execution_count": 19,
     "metadata": {},
     "output_type": "execute_result"
    }
   ],
   "source": [
    "# GENERATES DESCRIPTIVE STATS\n",
    "df.describe()"
   ]
  },
  {
   "cell_type": "markdown",
   "id": "2e0a3fcf",
   "metadata": {},
   "source": [
    "### Skewness\n",
    "- **(mean-median)/std**\n",
    "- **If skewness = 0 ,median equals mean euals mode so skewness will be 0 (mean=median=mode)**\n",
    "- **Positively Skewness if mode<media<mean**\n",
    "- **Negativly Skewness if mode>media>mean**\n",
    "- https://www.youtube.com/watch?v=HnMGKsupF8Q"
   ]
  },
  {
   "cell_type": "code",
   "execution_count": 21,
   "id": "69e49371",
   "metadata": {},
   "outputs": [
    {
     "data": {
      "text/plain": [
       "C1    1.227077\n",
       "C2    0.373264\n",
       "C3   -0.466216\n",
       "C4    0.258148\n",
       "C5    1.226433\n",
       "C6    1.228993\n",
       "C7    0.779135\n",
       "C8    0.000000\n",
       "dtype: float64"
      ]
     },
     "execution_count": 21,
     "metadata": {},
     "output_type": "execute_result"
    }
   ],
   "source": [
    "df.skew()"
   ]
  },
  {
   "cell_type": "code",
   "execution_count": 22,
   "id": "b635ee36",
   "metadata": {},
   "outputs": [
    {
     "data": {
      "text/plain": [
       "C1   -0.841929\n",
       "C2   -2.798714\n",
       "C3   -1.348379\n",
       "C4    0.481638\n",
       "C5   -0.842582\n",
       "C6   -0.840513\n",
       "C7    0.683919\n",
       "C8    0.000000\n",
       "dtype: float64"
      ]
     },
     "execution_count": 22,
     "metadata": {},
     "output_type": "execute_result"
    }
   ],
   "source": [
    "# Return unbiased kurtosis using Fisher’s definition of kurtosis\n",
    "df.kurt()"
   ]
  },
  {
   "cell_type": "code",
   "execution_count": 23,
   "id": "0e964e5f",
   "metadata": {},
   "outputs": [
    {
     "data": {
      "text/html": [
       "<div>\n",
       "<style scoped>\n",
       "    .dataframe tbody tr th:only-of-type {\n",
       "        vertical-align: middle;\n",
       "    }\n",
       "\n",
       "    .dataframe tbody tr th {\n",
       "        vertical-align: top;\n",
       "    }\n",
       "\n",
       "    .dataframe thead th {\n",
       "        text-align: right;\n",
       "    }\n",
       "</style>\n",
       "<table border=\"1\" class=\"dataframe\">\n",
       "  <thead>\n",
       "    <tr style=\"text-align: right;\">\n",
       "      <th></th>\n",
       "      <th>C1</th>\n",
       "      <th>C2</th>\n",
       "      <th>C3</th>\n",
       "      <th>C4</th>\n",
       "      <th>C5</th>\n",
       "      <th>C6</th>\n",
       "      <th>C7</th>\n",
       "      <th>C8</th>\n",
       "    </tr>\n",
       "  </thead>\n",
       "  <tbody>\n",
       "    <tr>\n",
       "      <th>2021-01-20</th>\n",
       "      <td>0.413290</td>\n",
       "      <td>0.348892</td>\n",
       "      <td>0.869436</td>\n",
       "      <td>0.479128</td>\n",
       "      <td>0.756309</td>\n",
       "      <td>20.000000</td>\n",
       "      <td>0.046079</td>\n",
       "      <td>20.0</td>\n",
       "    </tr>\n",
       "    <tr>\n",
       "      <th>2021-01-21</th>\n",
       "      <td>0.454507</td>\n",
       "      <td>20.000000</td>\n",
       "      <td>0.108046</td>\n",
       "      <td>0.324602</td>\n",
       "      <td>0.355205</td>\n",
       "      <td>20.000000</td>\n",
       "      <td>0.300431</td>\n",
       "      <td>20.0</td>\n",
       "    </tr>\n",
       "    <tr>\n",
       "      <th>2021-01-22</th>\n",
       "      <td>0.781750</td>\n",
       "      <td>20.000000</td>\n",
       "      <td>0.541564</td>\n",
       "      <td>0.695929</td>\n",
       "      <td>0.971040</td>\n",
       "      <td>0.585808</td>\n",
       "      <td>0.282532</td>\n",
       "      <td>20.0</td>\n",
       "    </tr>\n",
       "    <tr>\n",
       "      <th>2021-01-23</th>\n",
       "      <td>0.575860</td>\n",
       "      <td>20.000000</td>\n",
       "      <td>0.799161</td>\n",
       "      <td>0.469688</td>\n",
       "      <td>0.341546</td>\n",
       "      <td>0.782251</td>\n",
       "      <td>0.586273</td>\n",
       "      <td>20.0</td>\n",
       "    </tr>\n",
       "    <tr>\n",
       "      <th>2021-01-24</th>\n",
       "      <td>20.000000</td>\n",
       "      <td>0.570518</td>\n",
       "      <td>0.574759</td>\n",
       "      <td>0.901717</td>\n",
       "      <td>0.224441</td>\n",
       "      <td>0.463105</td>\n",
       "      <td>0.938752</td>\n",
       "      <td>20.0</td>\n",
       "    </tr>\n",
       "    <tr>\n",
       "      <th>2021-01-25</th>\n",
       "      <td>20.000000</td>\n",
       "      <td>0.703987</td>\n",
       "      <td>0.201234</td>\n",
       "      <td>0.425933</td>\n",
       "      <td>20.000000</td>\n",
       "      <td>0.417079</td>\n",
       "      <td>0.536775</td>\n",
       "      <td>20.0</td>\n",
       "    </tr>\n",
       "    <tr>\n",
       "      <th>2021-01-26</th>\n",
       "      <td>0.007171</td>\n",
       "      <td>0.202669</td>\n",
       "      <td>0.952872</td>\n",
       "      <td>0.096232</td>\n",
       "      <td>20.000000</td>\n",
       "      <td>0.528075</td>\n",
       "      <td>0.263743</td>\n",
       "      <td>20.0</td>\n",
       "    </tr>\n",
       "  </tbody>\n",
       "</table>\n",
       "</div>"
      ],
      "text/plain": [
       "                   C1         C2        C3        C4         C5         C6  \\\n",
       "2021-01-20   0.413290   0.348892  0.869436  0.479128   0.756309  20.000000   \n",
       "2021-01-21   0.454507  20.000000  0.108046  0.324602   0.355205  20.000000   \n",
       "2021-01-22   0.781750  20.000000  0.541564  0.695929   0.971040   0.585808   \n",
       "2021-01-23   0.575860  20.000000  0.799161  0.469688   0.341546   0.782251   \n",
       "2021-01-24  20.000000   0.570518  0.574759  0.901717   0.224441   0.463105   \n",
       "2021-01-25  20.000000   0.703987  0.201234  0.425933  20.000000   0.417079   \n",
       "2021-01-26   0.007171   0.202669  0.952872  0.096232  20.000000   0.528075   \n",
       "\n",
       "                  C7    C8  \n",
       "2021-01-20  0.046079  20.0  \n",
       "2021-01-21  0.300431  20.0  \n",
       "2021-01-22  0.282532  20.0  \n",
       "2021-01-23  0.586273  20.0  \n",
       "2021-01-24  0.938752  20.0  \n",
       "2021-01-25  0.536775  20.0  \n",
       "2021-01-26  0.263743  20.0  "
      ]
     },
     "execution_count": 23,
     "metadata": {},
     "output_type": "execute_result"
    }
   ],
   "source": [
    "df"
   ]
  },
  {
   "cell_type": "code",
   "execution_count": 25,
   "id": "8a6e6dcc",
   "metadata": {},
   "outputs": [
    {
     "data": {
      "text/html": [
       "<div>\n",
       "<style scoped>\n",
       "    .dataframe tbody tr th:only-of-type {\n",
       "        vertical-align: middle;\n",
       "    }\n",
       "\n",
       "    .dataframe tbody tr th {\n",
       "        vertical-align: top;\n",
       "    }\n",
       "\n",
       "    .dataframe thead th {\n",
       "        text-align: right;\n",
       "    }\n",
       "</style>\n",
       "<table border=\"1\" class=\"dataframe\">\n",
       "  <thead>\n",
       "    <tr style=\"text-align: right;\">\n",
       "      <th></th>\n",
       "      <th>C1</th>\n",
       "      <th>C2</th>\n",
       "      <th>C3</th>\n",
       "      <th>C4</th>\n",
       "      <th>C5</th>\n",
       "      <th>C6</th>\n",
       "      <th>C7</th>\n",
       "      <th>C8</th>\n",
       "    </tr>\n",
       "  </thead>\n",
       "  <tbody>\n",
       "    <tr>\n",
       "      <th>C1</th>\n",
       "      <td>1.000000</td>\n",
       "      <td>-0.520054</td>\n",
       "      <td>-0.406742</td>\n",
       "      <td>0.490538</td>\n",
       "      <td>0.273324</td>\n",
       "      <td>-0.408949</td>\n",
       "      <td>0.744402</td>\n",
       "      <td>NaN</td>\n",
       "    </tr>\n",
       "    <tr>\n",
       "      <th>C2</th>\n",
       "      <td>-0.520054</td>\n",
       "      <td>1.000000</td>\n",
       "      <td>-0.283796</td>\n",
       "      <td>0.051691</td>\n",
       "      <td>-0.545182</td>\n",
       "      <td>0.096150</td>\n",
       "      <td>-0.094760</td>\n",
       "      <td>NaN</td>\n",
       "    </tr>\n",
       "    <tr>\n",
       "      <th>C3</th>\n",
       "      <td>-0.406742</td>\n",
       "      <td>-0.283796</td>\n",
       "      <td>1.000000</td>\n",
       "      <td>-0.123340</td>\n",
       "      <td>0.002607</td>\n",
       "      <td>-0.182307</td>\n",
       "      <td>-0.202414</td>\n",
       "      <td>NaN</td>\n",
       "    </tr>\n",
       "    <tr>\n",
       "      <th>C4</th>\n",
       "      <td>0.490538</td>\n",
       "      <td>0.051691</td>\n",
       "      <td>-0.123340</td>\n",
       "      <td>1.000000</td>\n",
       "      <td>-0.592763</td>\n",
       "      <td>-0.220744</td>\n",
       "      <td>0.577481</td>\n",
       "      <td>NaN</td>\n",
       "    </tr>\n",
       "    <tr>\n",
       "      <th>C5</th>\n",
       "      <td>0.273324</td>\n",
       "      <td>-0.545182</td>\n",
       "      <td>0.002607</td>\n",
       "      <td>-0.592763</td>\n",
       "      <td>1.000000</td>\n",
       "      <td>-0.403901</td>\n",
       "      <td>-0.070169</td>\n",
       "      <td>NaN</td>\n",
       "    </tr>\n",
       "    <tr>\n",
       "      <th>C6</th>\n",
       "      <td>-0.408949</td>\n",
       "      <td>0.096150</td>\n",
       "      <td>-0.182307</td>\n",
       "      <td>-0.220744</td>\n",
       "      <td>-0.403901</td>\n",
       "      <td>1.000000</td>\n",
       "      <td>-0.585840</td>\n",
       "      <td>NaN</td>\n",
       "    </tr>\n",
       "    <tr>\n",
       "      <th>C7</th>\n",
       "      <td>0.744402</td>\n",
       "      <td>-0.094760</td>\n",
       "      <td>-0.202414</td>\n",
       "      <td>0.577481</td>\n",
       "      <td>-0.070169</td>\n",
       "      <td>-0.585840</td>\n",
       "      <td>1.000000</td>\n",
       "      <td>NaN</td>\n",
       "    </tr>\n",
       "    <tr>\n",
       "      <th>C8</th>\n",
       "      <td>NaN</td>\n",
       "      <td>NaN</td>\n",
       "      <td>NaN</td>\n",
       "      <td>NaN</td>\n",
       "      <td>NaN</td>\n",
       "      <td>NaN</td>\n",
       "      <td>NaN</td>\n",
       "      <td>NaN</td>\n",
       "    </tr>\n",
       "  </tbody>\n",
       "</table>\n",
       "</div>"
      ],
      "text/plain": [
       "          C1        C2        C3        C4        C5        C6        C7  C8\n",
       "C1  1.000000 -0.520054 -0.406742  0.490538  0.273324 -0.408949  0.744402 NaN\n",
       "C2 -0.520054  1.000000 -0.283796  0.051691 -0.545182  0.096150 -0.094760 NaN\n",
       "C3 -0.406742 -0.283796  1.000000 -0.123340  0.002607 -0.182307 -0.202414 NaN\n",
       "C4  0.490538  0.051691 -0.123340  1.000000 -0.592763 -0.220744  0.577481 NaN\n",
       "C5  0.273324 -0.545182  0.002607 -0.592763  1.000000 -0.403901 -0.070169 NaN\n",
       "C6 -0.408949  0.096150 -0.182307 -0.220744 -0.403901  1.000000 -0.585840 NaN\n",
       "C7  0.744402 -0.094760 -0.202414  0.577481 -0.070169 -0.585840  1.000000 NaN\n",
       "C8       NaN       NaN       NaN       NaN       NaN       NaN       NaN NaN"
      ]
     },
     "execution_count": 25,
     "metadata": {},
     "output_type": "execute_result"
    }
   ],
   "source": [
    "#Correlation\n",
    "# https://www.youtube.com/watch?v=qtaqvPAeEJY&list=PLblh5JKOoLUK0FLuzwntyYI10UQFUhsY9&index=10\n",
    "df.corr()"
   ]
  },
  {
   "cell_type": "code",
   "execution_count": 26,
   "id": "c49d61b3",
   "metadata": {},
   "outputs": [
    {
     "data": {
      "text/html": [
       "<div>\n",
       "<style scoped>\n",
       "    .dataframe tbody tr th:only-of-type {\n",
       "        vertical-align: middle;\n",
       "    }\n",
       "\n",
       "    .dataframe tbody tr th {\n",
       "        vertical-align: top;\n",
       "    }\n",
       "\n",
       "    .dataframe thead th {\n",
       "        text-align: right;\n",
       "    }\n",
       "</style>\n",
       "<table border=\"1\" class=\"dataframe\">\n",
       "  <thead>\n",
       "    <tr style=\"text-align: right;\">\n",
       "      <th></th>\n",
       "      <th>C1</th>\n",
       "      <th>C2</th>\n",
       "      <th>C3</th>\n",
       "      <th>C4</th>\n",
       "      <th>C5</th>\n",
       "      <th>C6</th>\n",
       "      <th>C7</th>\n",
       "      <th>C8</th>\n",
       "    </tr>\n",
       "  </thead>\n",
       "  <tbody>\n",
       "    <tr>\n",
       "      <th>C1</th>\n",
       "      <td>91.086920</td>\n",
       "      <td>-51.855416</td>\n",
       "      <td>-1.266366</td>\n",
       "      <td>1.206941</td>\n",
       "      <td>24.792298</td>\n",
       "      <td>-37.034555</td>\n",
       "      <td>2.066805</td>\n",
       "      <td>0.0</td>\n",
       "    </tr>\n",
       "    <tr>\n",
       "      <th>C2</th>\n",
       "      <td>-51.855416</td>\n",
       "      <td>109.152971</td>\n",
       "      <td>-0.967245</td>\n",
       "      <td>0.139226</td>\n",
       "      <td>-54.133940</td>\n",
       "      <td>9.531800</td>\n",
       "      <td>-0.288009</td>\n",
       "      <td>0.0</td>\n",
       "    </tr>\n",
       "    <tr>\n",
       "      <th>C3</th>\n",
       "      <td>-1.266366</td>\n",
       "      <td>-0.967245</td>\n",
       "      <td>0.106421</td>\n",
       "      <td>-0.010373</td>\n",
       "      <td>0.008082</td>\n",
       "      <td>-0.564322</td>\n",
       "      <td>-0.019210</td>\n",
       "      <td>0.0</td>\n",
       "    </tr>\n",
       "    <tr>\n",
       "      <th>C4</th>\n",
       "      <td>1.206941</td>\n",
       "      <td>0.139226</td>\n",
       "      <td>-0.010373</td>\n",
       "      <td>0.066462</td>\n",
       "      <td>-1.452369</td>\n",
       "      <td>-0.539989</td>\n",
       "      <td>0.043310</td>\n",
       "      <td>0.0</td>\n",
       "    </tr>\n",
       "    <tr>\n",
       "      <th>C5</th>\n",
       "      <td>24.792298</td>\n",
       "      <td>-54.133940</td>\n",
       "      <td>0.008082</td>\n",
       "      <td>-1.452369</td>\n",
       "      <td>90.327589</td>\n",
       "      <td>-36.424628</td>\n",
       "      <td>-0.194009</td>\n",
       "      <td>0.0</td>\n",
       "    </tr>\n",
       "    <tr>\n",
       "      <th>C6</th>\n",
       "      <td>-37.034555</td>\n",
       "      <td>9.531800</td>\n",
       "      <td>-0.564322</td>\n",
       "      <td>-0.539989</td>\n",
       "      <td>-36.424628</td>\n",
       "      <td>90.036743</td>\n",
       "      <td>-1.617160</td>\n",
       "      <td>0.0</td>\n",
       "    </tr>\n",
       "    <tr>\n",
       "      <th>C7</th>\n",
       "      <td>2.066805</td>\n",
       "      <td>-0.288009</td>\n",
       "      <td>-0.019210</td>\n",
       "      <td>0.043310</td>\n",
       "      <td>-0.194009</td>\n",
       "      <td>-1.617160</td>\n",
       "      <td>0.084631</td>\n",
       "      <td>0.0</td>\n",
       "    </tr>\n",
       "    <tr>\n",
       "      <th>C8</th>\n",
       "      <td>0.000000</td>\n",
       "      <td>0.000000</td>\n",
       "      <td>0.000000</td>\n",
       "      <td>0.000000</td>\n",
       "      <td>0.000000</td>\n",
       "      <td>0.000000</td>\n",
       "      <td>0.000000</td>\n",
       "      <td>0.0</td>\n",
       "    </tr>\n",
       "  </tbody>\n",
       "</table>\n",
       "</div>"
      ],
      "text/plain": [
       "           C1          C2        C3        C4         C5         C6        C7  \\\n",
       "C1  91.086920  -51.855416 -1.266366  1.206941  24.792298 -37.034555  2.066805   \n",
       "C2 -51.855416  109.152971 -0.967245  0.139226 -54.133940   9.531800 -0.288009   \n",
       "C3  -1.266366   -0.967245  0.106421 -0.010373   0.008082  -0.564322 -0.019210   \n",
       "C4   1.206941    0.139226 -0.010373  0.066462  -1.452369  -0.539989  0.043310   \n",
       "C5  24.792298  -54.133940  0.008082 -1.452369  90.327589 -36.424628 -0.194009   \n",
       "C6 -37.034555    9.531800 -0.564322 -0.539989 -36.424628  90.036743 -1.617160   \n",
       "C7   2.066805   -0.288009 -0.019210  0.043310  -0.194009  -1.617160  0.084631   \n",
       "C8   0.000000    0.000000  0.000000  0.000000   0.000000   0.000000  0.000000   \n",
       "\n",
       "     C8  \n",
       "C1  0.0  \n",
       "C2  0.0  \n",
       "C3  0.0  \n",
       "C4  0.0  \n",
       "C5  0.0  \n",
       "C6  0.0  \n",
       "C7  0.0  \n",
       "C8  0.0  "
      ]
     },
     "execution_count": 26,
     "metadata": {},
     "output_type": "execute_result"
    }
   ],
   "source": [
    "#Covariance\n",
    "# https://www.youtube.com/watch?v=xZ_z8KWkhXE&list=PLblh5JKOoLUK0FLuzwntyYI10UQFUhsY9&index=11\n",
    "df.cov()"
   ]
  },
  {
   "cell_type": "code",
   "execution_count": 28,
   "id": "2d0d470c",
   "metadata": {},
   "outputs": [
    {
     "data": {
      "text/html": [
       "<div>\n",
       "<style scoped>\n",
       "    .dataframe tbody tr th:only-of-type {\n",
       "        vertical-align: middle;\n",
       "    }\n",
       "\n",
       "    .dataframe tbody tr th {\n",
       "        vertical-align: top;\n",
       "    }\n",
       "\n",
       "    .dataframe thead th {\n",
       "        text-align: right;\n",
       "    }\n",
       "</style>\n",
       "<table border=\"1\" class=\"dataframe\">\n",
       "  <thead>\n",
       "    <tr style=\"text-align: right;\">\n",
       "      <th></th>\n",
       "      <th>C1</th>\n",
       "      <th>C2</th>\n",
       "      <th>C3</th>\n",
       "      <th>C4</th>\n",
       "      <th>C5</th>\n",
       "      <th>C6</th>\n",
       "      <th>C7</th>\n",
       "      <th>C8</th>\n",
       "    </tr>\n",
       "  </thead>\n",
       "  <tbody>\n",
       "    <tr>\n",
       "      <th>2021-01-20</th>\n",
       "      <td>0.413290</td>\n",
       "      <td>0.348892</td>\n",
       "      <td>0.869436</td>\n",
       "      <td>0.479128</td>\n",
       "      <td>0.756309</td>\n",
       "      <td>20.000000</td>\n",
       "      <td>0.046079</td>\n",
       "      <td>20.0</td>\n",
       "    </tr>\n",
       "    <tr>\n",
       "      <th>2021-01-21</th>\n",
       "      <td>0.454507</td>\n",
       "      <td>20.000000</td>\n",
       "      <td>0.108046</td>\n",
       "      <td>0.324602</td>\n",
       "      <td>0.355205</td>\n",
       "      <td>20.000000</td>\n",
       "      <td>0.300431</td>\n",
       "      <td>20.0</td>\n",
       "    </tr>\n",
       "    <tr>\n",
       "      <th>2021-01-22</th>\n",
       "      <td>0.781750</td>\n",
       "      <td>20.000000</td>\n",
       "      <td>0.541564</td>\n",
       "      <td>0.695929</td>\n",
       "      <td>0.971040</td>\n",
       "      <td>0.585808</td>\n",
       "      <td>0.282532</td>\n",
       "      <td>20.0</td>\n",
       "    </tr>\n",
       "    <tr>\n",
       "      <th>2021-01-23</th>\n",
       "      <td>22.000000</td>\n",
       "      <td>20.000000</td>\n",
       "      <td>0.799161</td>\n",
       "      <td>0.469688</td>\n",
       "      <td>0.341546</td>\n",
       "      <td>0.782251</td>\n",
       "      <td>0.586273</td>\n",
       "      <td>20.0</td>\n",
       "    </tr>\n",
       "    <tr>\n",
       "      <th>2021-01-24</th>\n",
       "      <td>22.000000</td>\n",
       "      <td>0.570518</td>\n",
       "      <td>0.574759</td>\n",
       "      <td>0.901717</td>\n",
       "      <td>0.224441</td>\n",
       "      <td>0.463105</td>\n",
       "      <td>0.938752</td>\n",
       "      <td>20.0</td>\n",
       "    </tr>\n",
       "    <tr>\n",
       "      <th>2021-01-25</th>\n",
       "      <td>22.000000</td>\n",
       "      <td>0.703987</td>\n",
       "      <td>0.201234</td>\n",
       "      <td>0.425933</td>\n",
       "      <td>20.000000</td>\n",
       "      <td>0.417079</td>\n",
       "      <td>0.536775</td>\n",
       "      <td>20.0</td>\n",
       "    </tr>\n",
       "    <tr>\n",
       "      <th>2021-01-26</th>\n",
       "      <td>0.007171</td>\n",
       "      <td>0.202669</td>\n",
       "      <td>0.952872</td>\n",
       "      <td>0.096232</td>\n",
       "      <td>20.000000</td>\n",
       "      <td>0.528075</td>\n",
       "      <td>0.263743</td>\n",
       "      <td>20.0</td>\n",
       "    </tr>\n",
       "  </tbody>\n",
       "</table>\n",
       "</div>"
      ],
      "text/plain": [
       "                   C1         C2        C3        C4         C5         C6  \\\n",
       "2021-01-20   0.413290   0.348892  0.869436  0.479128   0.756309  20.000000   \n",
       "2021-01-21   0.454507  20.000000  0.108046  0.324602   0.355205  20.000000   \n",
       "2021-01-22   0.781750  20.000000  0.541564  0.695929   0.971040   0.585808   \n",
       "2021-01-23  22.000000  20.000000  0.799161  0.469688   0.341546   0.782251   \n",
       "2021-01-24  22.000000   0.570518  0.574759  0.901717   0.224441   0.463105   \n",
       "2021-01-25  22.000000   0.703987  0.201234  0.425933  20.000000   0.417079   \n",
       "2021-01-26   0.007171   0.202669  0.952872  0.096232  20.000000   0.528075   \n",
       "\n",
       "                  C7    C8  \n",
       "2021-01-20  0.046079  20.0  \n",
       "2021-01-21  0.300431  20.0  \n",
       "2021-01-22  0.282532  20.0  \n",
       "2021-01-23  0.586273  20.0  \n",
       "2021-01-24  0.938752  20.0  \n",
       "2021-01-25  0.536775  20.0  \n",
       "2021-01-26  0.263743  20.0  "
      ]
     },
     "execution_count": 28,
     "metadata": {},
     "output_type": "execute_result"
    }
   ],
   "source": [
    "df.at[3:6,'C1'] = 22\n",
    "df"
   ]
  },
  {
   "cell_type": "code",
   "execution_count": 29,
   "id": "25efa227",
   "metadata": {},
   "outputs": [
    {
     "data": {
      "text/plain": [
       "9.665245444821506"
      ]
     },
     "execution_count": 29,
     "metadata": {},
     "output_type": "execute_result"
    }
   ],
   "source": [
    "# Average\n",
    "st.mean(df['C1'])"
   ]
  },
  {
   "cell_type": "code",
   "execution_count": 30,
   "id": "1c0474b9",
   "metadata": {},
   "outputs": [
    {
     "data": {
      "text/plain": [
       "0.04811191352272082"
      ]
     },
     "execution_count": 30,
     "metadata": {},
     "output_type": "execute_result"
    }
   ],
   "source": [
    "# Hormonic Mean\n",
    "st.harmonic_mean(df['C1'])"
   ]
  },
  {
   "cell_type": "code",
   "execution_count": 31,
   "id": "030cd29d",
   "metadata": {},
   "outputs": [
    {
     "name": "stdout",
     "output_type": "stream",
     "text": [
      "4.5\n",
      "4.5\n"
     ]
    }
   ],
   "source": [
    "#Returns average of the two middle numbers when length is EVEN\n",
    "arr = np.array([1,2,3,4,5,6,7,8])\n",
    "print(st.median(arr))\n",
    "print(np.median(arr))"
   ]
  },
  {
   "cell_type": "code",
   "execution_count": 33,
   "id": "f6d315df",
   "metadata": {},
   "outputs": [
    {
     "data": {
      "text/plain": [
       "22.0"
      ]
     },
     "execution_count": 33,
     "metadata": {},
     "output_type": "execute_result"
    }
   ],
   "source": [
    "# Mode of Dataset\n",
    "st.mode(df['C1'])"
   ]
  },
  {
   "cell_type": "code",
   "execution_count": 34,
   "id": "c071a6b2",
   "metadata": {},
   "outputs": [
    {
     "data": {
      "text/plain": [
       "114.15282625185336"
      ]
     },
     "execution_count": 34,
     "metadata": {},
     "output_type": "execute_result"
    }
   ],
   "source": [
    "#Population Variance\n",
    "st.pvariance(df['C1'])"
   ]
  },
  {
   "cell_type": "code",
   "execution_count": 36,
   "id": "3c3557d1",
   "metadata": {},
   "outputs": [
    {
     "data": {
      "text/plain": [
       "11.540290173727389"
      ]
     },
     "execution_count": 36,
     "metadata": {},
     "output_type": "execute_result"
    }
   ],
   "source": [
    "#Sample Standard Deviation\n",
    "st.stdev(df['C1'])"
   ]
  },
  {
   "cell_type": "code",
   "execution_count": 40,
   "id": "29f9c8d5",
   "metadata": {},
   "outputs": [
    {
     "data": {
      "text/plain": [
       "10.684232600044487"
      ]
     },
     "execution_count": 40,
     "metadata": {},
     "output_type": "execute_result"
    }
   ],
   "source": [
    "#Population Standard Deviation\n",
    "st.pstdev(df['C1'])"
   ]
  },
  {
   "cell_type": "markdown",
   "id": "17c883a3",
   "metadata": {},
   "source": [
    "### Apply function on Dataframe"
   ]
  },
  {
   "cell_type": "code",
   "execution_count": 41,
   "id": "52c47bc0",
   "metadata": {},
   "outputs": [
    {
     "data": {
      "text/html": [
       "<div>\n",
       "<style scoped>\n",
       "    .dataframe tbody tr th:only-of-type {\n",
       "        vertical-align: middle;\n",
       "    }\n",
       "\n",
       "    .dataframe tbody tr th {\n",
       "        vertical-align: top;\n",
       "    }\n",
       "\n",
       "    .dataframe thead th {\n",
       "        text-align: right;\n",
       "    }\n",
       "</style>\n",
       "<table border=\"1\" class=\"dataframe\">\n",
       "  <thead>\n",
       "    <tr style=\"text-align: right;\">\n",
       "      <th></th>\n",
       "      <th>C1</th>\n",
       "      <th>C2</th>\n",
       "      <th>C3</th>\n",
       "      <th>C4</th>\n",
       "      <th>C5</th>\n",
       "      <th>C6</th>\n",
       "      <th>C7</th>\n",
       "      <th>C8</th>\n",
       "    </tr>\n",
       "  </thead>\n",
       "  <tbody>\n",
       "    <tr>\n",
       "      <th>2021-01-20</th>\n",
       "      <td>0.413290</td>\n",
       "      <td>0.348892</td>\n",
       "      <td>0.869436</td>\n",
       "      <td>0.479128</td>\n",
       "      <td>0.756309</td>\n",
       "      <td>20.000000</td>\n",
       "      <td>0.046079</td>\n",
       "      <td>20.0</td>\n",
       "    </tr>\n",
       "    <tr>\n",
       "      <th>2021-01-21</th>\n",
       "      <td>0.454507</td>\n",
       "      <td>20.000000</td>\n",
       "      <td>0.108046</td>\n",
       "      <td>0.324602</td>\n",
       "      <td>0.355205</td>\n",
       "      <td>20.000000</td>\n",
       "      <td>0.300431</td>\n",
       "      <td>20.0</td>\n",
       "    </tr>\n",
       "    <tr>\n",
       "      <th>2021-01-22</th>\n",
       "      <td>0.781750</td>\n",
       "      <td>20.000000</td>\n",
       "      <td>0.541564</td>\n",
       "      <td>0.695929</td>\n",
       "      <td>0.971040</td>\n",
       "      <td>0.585808</td>\n",
       "      <td>0.282532</td>\n",
       "      <td>20.0</td>\n",
       "    </tr>\n",
       "    <tr>\n",
       "      <th>2021-01-23</th>\n",
       "      <td>22.000000</td>\n",
       "      <td>20.000000</td>\n",
       "      <td>0.799161</td>\n",
       "      <td>0.469688</td>\n",
       "      <td>0.341546</td>\n",
       "      <td>0.782251</td>\n",
       "      <td>0.586273</td>\n",
       "      <td>20.0</td>\n",
       "    </tr>\n",
       "    <tr>\n",
       "      <th>2021-01-24</th>\n",
       "      <td>22.000000</td>\n",
       "      <td>0.570518</td>\n",
       "      <td>0.574759</td>\n",
       "      <td>0.901717</td>\n",
       "      <td>0.224441</td>\n",
       "      <td>0.463105</td>\n",
       "      <td>0.938752</td>\n",
       "      <td>20.0</td>\n",
       "    </tr>\n",
       "    <tr>\n",
       "      <th>2021-01-25</th>\n",
       "      <td>22.000000</td>\n",
       "      <td>0.703987</td>\n",
       "      <td>0.201234</td>\n",
       "      <td>0.425933</td>\n",
       "      <td>20.000000</td>\n",
       "      <td>0.417079</td>\n",
       "      <td>0.536775</td>\n",
       "      <td>20.0</td>\n",
       "    </tr>\n",
       "    <tr>\n",
       "      <th>2021-01-26</th>\n",
       "      <td>0.007171</td>\n",
       "      <td>0.202669</td>\n",
       "      <td>0.952872</td>\n",
       "      <td>0.096232</td>\n",
       "      <td>20.000000</td>\n",
       "      <td>0.528075</td>\n",
       "      <td>0.263743</td>\n",
       "      <td>20.0</td>\n",
       "    </tr>\n",
       "  </tbody>\n",
       "</table>\n",
       "</div>"
      ],
      "text/plain": [
       "                   C1         C2        C3        C4         C5         C6  \\\n",
       "2021-01-20   0.413290   0.348892  0.869436  0.479128   0.756309  20.000000   \n",
       "2021-01-21   0.454507  20.000000  0.108046  0.324602   0.355205  20.000000   \n",
       "2021-01-22   0.781750  20.000000  0.541564  0.695929   0.971040   0.585808   \n",
       "2021-01-23  22.000000  20.000000  0.799161  0.469688   0.341546   0.782251   \n",
       "2021-01-24  22.000000   0.570518  0.574759  0.901717   0.224441   0.463105   \n",
       "2021-01-25  22.000000   0.703987  0.201234  0.425933  20.000000   0.417079   \n",
       "2021-01-26   0.007171   0.202669  0.952872  0.096232  20.000000   0.528075   \n",
       "\n",
       "                  C7    C8  \n",
       "2021-01-20  0.046079  20.0  \n",
       "2021-01-21  0.300431  20.0  \n",
       "2021-01-22  0.282532  20.0  \n",
       "2021-01-23  0.586273  20.0  \n",
       "2021-01-24  0.938752  20.0  \n",
       "2021-01-25  0.536775  20.0  \n",
       "2021-01-26  0.263743  20.0  "
      ]
     },
     "execution_count": 41,
     "metadata": {},
     "output_type": "execute_result"
    }
   ],
   "source": [
    "df"
   ]
  },
  {
   "cell_type": "code",
   "execution_count": 42,
   "id": "93836b5d",
   "metadata": {},
   "outputs": [
    {
     "data": {
      "text/plain": [
       "C1    22.000000\n",
       "C2    20.000000\n",
       "C3     0.952872\n",
       "C4     0.901717\n",
       "C5    20.000000\n",
       "C6    20.000000\n",
       "C7     0.938752\n",
       "C8    20.000000\n",
       "dtype: float64"
      ]
     },
     "execution_count": 42,
     "metadata": {},
     "output_type": "execute_result"
    }
   ],
   "source": [
    "# Finding MAX value in Columns\n",
    "df.apply(max)"
   ]
  },
  {
   "cell_type": "code",
   "execution_count": 43,
   "id": "408db522",
   "metadata": {},
   "outputs": [
    {
     "data": {
      "text/plain": [
       "22.0"
      ]
     },
     "execution_count": 43,
     "metadata": {},
     "output_type": "execute_result"
    }
   ],
   "source": [
    "max(df.apply(max))"
   ]
  },
  {
   "cell_type": "code",
   "execution_count": 45,
   "id": "c81b0221",
   "metadata": {},
   "outputs": [
    {
     "data": {
      "text/plain": [
       "C1     0.007171\n",
       "C2     0.202669\n",
       "C3     0.108046\n",
       "C4     0.096232\n",
       "C5     0.224441\n",
       "C6     0.417079\n",
       "C7     0.046079\n",
       "C8    20.000000\n",
       "dtype: float64"
      ]
     },
     "execution_count": 45,
     "metadata": {},
     "output_type": "execute_result"
    }
   ],
   "source": [
    "# Finding minimum value in Columns\n",
    "df.apply(min)"
   ]
  },
  {
   "cell_type": "code",
   "execution_count": 47,
   "id": "554d1f40",
   "metadata": {},
   "outputs": [
    {
     "data": {
      "text/plain": [
       "0.007170578002409056"
      ]
     },
     "execution_count": 47,
     "metadata": {},
     "output_type": "execute_result"
    }
   ],
   "source": [
    "min(df.apply(min))"
   ]
  },
  {
   "cell_type": "code",
   "execution_count": 48,
   "id": "6ba457f0",
   "metadata": {},
   "outputs": [
    {
     "data": {
      "text/plain": [
       "C1     67.656718\n",
       "C2     61.826066\n",
       "C3      4.047072\n",
       "C4      3.393229\n",
       "C5     42.648541\n",
       "C6     42.776318\n",
       "C7      2.954585\n",
       "C8    140.000000\n",
       "dtype: float64"
      ]
     },
     "execution_count": 48,
     "metadata": {},
     "output_type": "execute_result"
    }
   ],
   "source": [
    "# Sum of Column Values\n",
    "df.apply(sum)\n",
    "# or\n",
    "# df.apply(np.sum)"
   ]
  },
  {
   "cell_type": "code",
   "execution_count": 51,
   "id": "48a8d0b9",
   "metadata": {},
   "outputs": [
    {
     "data": {
      "text/plain": [
       "C1     67.656718\n",
       "C2     61.826066\n",
       "C3      4.047072\n",
       "C4      3.393229\n",
       "C5     42.648541\n",
       "C6     42.776318\n",
       "C7      2.954585\n",
       "C8    140.000000\n",
       "dtype: float64"
      ]
     },
     "execution_count": 51,
     "metadata": {},
     "output_type": "execute_result"
    }
   ],
   "source": [
    "df.sum()"
   ]
  },
  {
   "cell_type": "code",
   "execution_count": 53,
   "id": "a0f5b8db",
   "metadata": {},
   "outputs": [
    {
     "data": {
      "text/plain": [
       "365.30252961987594"
      ]
     },
     "execution_count": 53,
     "metadata": {},
     "output_type": "execute_result"
    }
   ],
   "source": [
    "# Sum of all cells in the DataFrame\n",
    "sum(df.apply(sum))"
   ]
  },
  {
   "cell_type": "code",
   "execution_count": 54,
   "id": "1f974b8f",
   "metadata": {},
   "outputs": [
    {
     "data": {
      "text/plain": [
       "2021-01-20    42.913133\n",
       "2021-01-21    61.542793\n",
       "2021-01-22    43.858624\n",
       "2021-01-23    64.978919\n",
       "2021-01-24    45.673293\n",
       "2021-01-25    64.285008\n",
       "2021-01-26    42.050761\n",
       "dtype: float64"
      ]
     },
     "execution_count": 54,
     "metadata": {},
     "output_type": "execute_result"
    }
   ],
   "source": [
    "# Sum of rows\n",
    "df.apply(np.sum ,axis=1)"
   ]
  },
  {
   "cell_type": "code",
   "execution_count": 56,
   "id": "4311fb40",
   "metadata": {},
   "outputs": [
    {
     "data": {
      "text/html": [
       "<div>\n",
       "<style scoped>\n",
       "    .dataframe tbody tr th:only-of-type {\n",
       "        vertical-align: middle;\n",
       "    }\n",
       "\n",
       "    .dataframe tbody tr th {\n",
       "        vertical-align: top;\n",
       "    }\n",
       "\n",
       "    .dataframe thead th {\n",
       "        text-align: right;\n",
       "    }\n",
       "</style>\n",
       "<table border=\"1\" class=\"dataframe\">\n",
       "  <thead>\n",
       "    <tr style=\"text-align: right;\">\n",
       "      <th></th>\n",
       "      <th>C1</th>\n",
       "      <th>C2</th>\n",
       "      <th>C3</th>\n",
       "      <th>C4</th>\n",
       "      <th>C5</th>\n",
       "      <th>C6</th>\n",
       "      <th>C7</th>\n",
       "      <th>C8</th>\n",
       "    </tr>\n",
       "  </thead>\n",
       "  <tbody>\n",
       "    <tr>\n",
       "      <th>2021-01-20</th>\n",
       "      <td>0.642876</td>\n",
       "      <td>0.590671</td>\n",
       "      <td>0.932435</td>\n",
       "      <td>0.692191</td>\n",
       "      <td>0.869660</td>\n",
       "      <td>4.472136</td>\n",
       "      <td>0.214660</td>\n",
       "      <td>4.472136</td>\n",
       "    </tr>\n",
       "    <tr>\n",
       "      <th>2021-01-21</th>\n",
       "      <td>0.674172</td>\n",
       "      <td>4.472136</td>\n",
       "      <td>0.328704</td>\n",
       "      <td>0.569739</td>\n",
       "      <td>0.595991</td>\n",
       "      <td>4.472136</td>\n",
       "      <td>0.548116</td>\n",
       "      <td>4.472136</td>\n",
       "    </tr>\n",
       "    <tr>\n",
       "      <th>2021-01-22</th>\n",
       "      <td>0.884166</td>\n",
       "      <td>4.472136</td>\n",
       "      <td>0.735910</td>\n",
       "      <td>0.834224</td>\n",
       "      <td>0.985414</td>\n",
       "      <td>0.765381</td>\n",
       "      <td>0.531538</td>\n",
       "      <td>4.472136</td>\n",
       "    </tr>\n",
       "    <tr>\n",
       "      <th>2021-01-23</th>\n",
       "      <td>4.690416</td>\n",
       "      <td>4.472136</td>\n",
       "      <td>0.893958</td>\n",
       "      <td>0.685338</td>\n",
       "      <td>0.584419</td>\n",
       "      <td>0.884449</td>\n",
       "      <td>0.765684</td>\n",
       "      <td>4.472136</td>\n",
       "    </tr>\n",
       "    <tr>\n",
       "      <th>2021-01-24</th>\n",
       "      <td>4.690416</td>\n",
       "      <td>0.755326</td>\n",
       "      <td>0.758129</td>\n",
       "      <td>0.949588</td>\n",
       "      <td>0.473753</td>\n",
       "      <td>0.680518</td>\n",
       "      <td>0.968892</td>\n",
       "      <td>4.472136</td>\n",
       "    </tr>\n",
       "    <tr>\n",
       "      <th>2021-01-25</th>\n",
       "      <td>4.690416</td>\n",
       "      <td>0.839039</td>\n",
       "      <td>0.448591</td>\n",
       "      <td>0.652635</td>\n",
       "      <td>4.472136</td>\n",
       "      <td>0.645816</td>\n",
       "      <td>0.732649</td>\n",
       "      <td>4.472136</td>\n",
       "    </tr>\n",
       "    <tr>\n",
       "      <th>2021-01-26</th>\n",
       "      <td>0.084679</td>\n",
       "      <td>0.450188</td>\n",
       "      <td>0.976151</td>\n",
       "      <td>0.310212</td>\n",
       "      <td>4.472136</td>\n",
       "      <td>0.726688</td>\n",
       "      <td>0.513559</td>\n",
       "      <td>4.472136</td>\n",
       "    </tr>\n",
       "  </tbody>\n",
       "</table>\n",
       "</div>"
      ],
      "text/plain": [
       "                  C1        C2        C3        C4        C5        C6  \\\n",
       "2021-01-20  0.642876  0.590671  0.932435  0.692191  0.869660  4.472136   \n",
       "2021-01-21  0.674172  4.472136  0.328704  0.569739  0.595991  4.472136   \n",
       "2021-01-22  0.884166  4.472136  0.735910  0.834224  0.985414  0.765381   \n",
       "2021-01-23  4.690416  4.472136  0.893958  0.685338  0.584419  0.884449   \n",
       "2021-01-24  4.690416  0.755326  0.758129  0.949588  0.473753  0.680518   \n",
       "2021-01-25  4.690416  0.839039  0.448591  0.652635  4.472136  0.645816   \n",
       "2021-01-26  0.084679  0.450188  0.976151  0.310212  4.472136  0.726688   \n",
       "\n",
       "                  C7        C8  \n",
       "2021-01-20  0.214660  4.472136  \n",
       "2021-01-21  0.548116  4.472136  \n",
       "2021-01-22  0.531538  4.472136  \n",
       "2021-01-23  0.765684  4.472136  \n",
       "2021-01-24  0.968892  4.472136  \n",
       "2021-01-25  0.732649  4.472136  \n",
       "2021-01-26  0.513559  4.472136  "
      ]
     },
     "execution_count": 56,
     "metadata": {},
     "output_type": "execute_result"
    }
   ],
   "source": [
    "# Square root of all values in a DataFrame\n",
    "df.applymap(np.sqrt)"
   ]
  },
  {
   "cell_type": "code",
   "execution_count": 63,
   "id": "629d35bb",
   "metadata": {},
   "outputs": [
    {
     "data": {
      "text/html": [
       "<div>\n",
       "<style scoped>\n",
       "    .dataframe tbody tr th:only-of-type {\n",
       "        vertical-align: middle;\n",
       "    }\n",
       "\n",
       "    .dataframe tbody tr th {\n",
       "        vertical-align: top;\n",
       "    }\n",
       "\n",
       "    .dataframe thead th {\n",
       "        text-align: right;\n",
       "    }\n",
       "</style>\n",
       "<table border=\"1\" class=\"dataframe\">\n",
       "  <thead>\n",
       "    <tr style=\"text-align: right;\">\n",
       "      <th></th>\n",
       "      <th>C1</th>\n",
       "      <th>C2</th>\n",
       "      <th>C3</th>\n",
       "      <th>C4</th>\n",
       "      <th>C5</th>\n",
       "      <th>C6</th>\n",
       "      <th>C7</th>\n",
       "      <th>C8</th>\n",
       "    </tr>\n",
       "  </thead>\n",
       "  <tbody>\n",
       "    <tr>\n",
       "      <th>2021-01-20</th>\n",
       "      <td>0.642876</td>\n",
       "      <td>0.590671</td>\n",
       "      <td>0.932435</td>\n",
       "      <td>0.692191</td>\n",
       "      <td>0.869660</td>\n",
       "      <td>4.472136</td>\n",
       "      <td>0.214660</td>\n",
       "      <td>4.472136</td>\n",
       "    </tr>\n",
       "    <tr>\n",
       "      <th>2021-01-21</th>\n",
       "      <td>0.674172</td>\n",
       "      <td>4.472136</td>\n",
       "      <td>0.328704</td>\n",
       "      <td>0.569739</td>\n",
       "      <td>0.595991</td>\n",
       "      <td>4.472136</td>\n",
       "      <td>0.548116</td>\n",
       "      <td>4.472136</td>\n",
       "    </tr>\n",
       "    <tr>\n",
       "      <th>2021-01-22</th>\n",
       "      <td>0.884166</td>\n",
       "      <td>4.472136</td>\n",
       "      <td>0.735910</td>\n",
       "      <td>0.834224</td>\n",
       "      <td>0.985414</td>\n",
       "      <td>0.765381</td>\n",
       "      <td>0.531538</td>\n",
       "      <td>4.472136</td>\n",
       "    </tr>\n",
       "    <tr>\n",
       "      <th>2021-01-23</th>\n",
       "      <td>4.690416</td>\n",
       "      <td>4.472136</td>\n",
       "      <td>0.893958</td>\n",
       "      <td>0.685338</td>\n",
       "      <td>0.584419</td>\n",
       "      <td>0.884449</td>\n",
       "      <td>0.765684</td>\n",
       "      <td>4.472136</td>\n",
       "    </tr>\n",
       "    <tr>\n",
       "      <th>2021-01-24</th>\n",
       "      <td>4.690416</td>\n",
       "      <td>0.755326</td>\n",
       "      <td>0.758129</td>\n",
       "      <td>0.949588</td>\n",
       "      <td>0.473753</td>\n",
       "      <td>0.680518</td>\n",
       "      <td>0.968892</td>\n",
       "      <td>4.472136</td>\n",
       "    </tr>\n",
       "    <tr>\n",
       "      <th>2021-01-25</th>\n",
       "      <td>4.690416</td>\n",
       "      <td>0.839039</td>\n",
       "      <td>0.448591</td>\n",
       "      <td>0.652635</td>\n",
       "      <td>4.472136</td>\n",
       "      <td>0.645816</td>\n",
       "      <td>0.732649</td>\n",
       "      <td>4.472136</td>\n",
       "    </tr>\n",
       "    <tr>\n",
       "      <th>2021-01-26</th>\n",
       "      <td>0.084679</td>\n",
       "      <td>0.450188</td>\n",
       "      <td>0.976151</td>\n",
       "      <td>0.310212</td>\n",
       "      <td>4.472136</td>\n",
       "      <td>0.726688</td>\n",
       "      <td>0.513559</td>\n",
       "      <td>4.472136</td>\n",
       "    </tr>\n",
       "  </tbody>\n",
       "</table>\n",
       "</div>"
      ],
      "text/plain": [
       "                  C1        C2        C3        C4        C5        C6  \\\n",
       "2021-01-20  0.642876  0.590671  0.932435  0.692191  0.869660  4.472136   \n",
       "2021-01-21  0.674172  4.472136  0.328704  0.569739  0.595991  4.472136   \n",
       "2021-01-22  0.884166  4.472136  0.735910  0.834224  0.985414  0.765381   \n",
       "2021-01-23  4.690416  4.472136  0.893958  0.685338  0.584419  0.884449   \n",
       "2021-01-24  4.690416  0.755326  0.758129  0.949588  0.473753  0.680518   \n",
       "2021-01-25  4.690416  0.839039  0.448591  0.652635  4.472136  0.645816   \n",
       "2021-01-26  0.084679  0.450188  0.976151  0.310212  4.472136  0.726688   \n",
       "\n",
       "                  C7        C8  \n",
       "2021-01-20  0.214660  4.472136  \n",
       "2021-01-21  0.548116  4.472136  \n",
       "2021-01-22  0.531538  4.472136  \n",
       "2021-01-23  0.765684  4.472136  \n",
       "2021-01-24  0.968892  4.472136  \n",
       "2021-01-25  0.732649  4.472136  \n",
       "2021-01-26  0.513559  4.472136  "
      ]
     },
     "execution_count": 63,
     "metadata": {},
     "output_type": "execute_result"
    }
   ],
   "source": [
    "# Square root of all values in a DataFrame\n",
    "import math\n",
    "df.applymap(math.sqrt)"
   ]
  },
  {
   "cell_type": "code",
   "execution_count": 65,
   "id": "32c927ef",
   "metadata": {},
   "outputs": [
    {
     "data": {
      "text/html": [
       "<div>\n",
       "<style scoped>\n",
       "    .dataframe tbody tr th:only-of-type {\n",
       "        vertical-align: middle;\n",
       "    }\n",
       "\n",
       "    .dataframe tbody tr th {\n",
       "        vertical-align: top;\n",
       "    }\n",
       "\n",
       "    .dataframe thead th {\n",
       "        text-align: right;\n",
       "    }\n",
       "</style>\n",
       "<table border=\"1\" class=\"dataframe\">\n",
       "  <thead>\n",
       "    <tr style=\"text-align: right;\">\n",
       "      <th></th>\n",
       "      <th>C1</th>\n",
       "      <th>C2</th>\n",
       "      <th>C3</th>\n",
       "      <th>C4</th>\n",
       "      <th>C5</th>\n",
       "      <th>C6</th>\n",
       "      <th>C7</th>\n",
       "      <th>C8</th>\n",
       "    </tr>\n",
       "  </thead>\n",
       "  <tbody>\n",
       "    <tr>\n",
       "      <th>2021-01-20</th>\n",
       "      <td>0</td>\n",
       "      <td>0</td>\n",
       "      <td>0</td>\n",
       "      <td>0</td>\n",
       "      <td>0</td>\n",
       "      <td>20</td>\n",
       "      <td>0</td>\n",
       "      <td>20</td>\n",
       "    </tr>\n",
       "    <tr>\n",
       "      <th>2021-01-21</th>\n",
       "      <td>0</td>\n",
       "      <td>20</td>\n",
       "      <td>0</td>\n",
       "      <td>0</td>\n",
       "      <td>0</td>\n",
       "      <td>20</td>\n",
       "      <td>0</td>\n",
       "      <td>20</td>\n",
       "    </tr>\n",
       "    <tr>\n",
       "      <th>2021-01-22</th>\n",
       "      <td>0</td>\n",
       "      <td>20</td>\n",
       "      <td>0</td>\n",
       "      <td>0</td>\n",
       "      <td>0</td>\n",
       "      <td>0</td>\n",
       "      <td>0</td>\n",
       "      <td>20</td>\n",
       "    </tr>\n",
       "    <tr>\n",
       "      <th>2021-01-23</th>\n",
       "      <td>22</td>\n",
       "      <td>20</td>\n",
       "      <td>0</td>\n",
       "      <td>0</td>\n",
       "      <td>0</td>\n",
       "      <td>0</td>\n",
       "      <td>0</td>\n",
       "      <td>20</td>\n",
       "    </tr>\n",
       "    <tr>\n",
       "      <th>2021-01-24</th>\n",
       "      <td>22</td>\n",
       "      <td>0</td>\n",
       "      <td>0</td>\n",
       "      <td>0</td>\n",
       "      <td>0</td>\n",
       "      <td>0</td>\n",
       "      <td>0</td>\n",
       "      <td>20</td>\n",
       "    </tr>\n",
       "    <tr>\n",
       "      <th>2021-01-25</th>\n",
       "      <td>22</td>\n",
       "      <td>0</td>\n",
       "      <td>0</td>\n",
       "      <td>0</td>\n",
       "      <td>20</td>\n",
       "      <td>0</td>\n",
       "      <td>0</td>\n",
       "      <td>20</td>\n",
       "    </tr>\n",
       "    <tr>\n",
       "      <th>2021-01-26</th>\n",
       "      <td>0</td>\n",
       "      <td>0</td>\n",
       "      <td>0</td>\n",
       "      <td>0</td>\n",
       "      <td>20</td>\n",
       "      <td>0</td>\n",
       "      <td>0</td>\n",
       "      <td>20</td>\n",
       "    </tr>\n",
       "  </tbody>\n",
       "</table>\n",
       "</div>"
      ],
      "text/plain": [
       "            C1  C2  C3  C4  C5  C6  C7  C8\n",
       "2021-01-20   0   0   0   0   0  20   0  20\n",
       "2021-01-21   0  20   0   0   0  20   0  20\n",
       "2021-01-22   0  20   0   0   0   0   0  20\n",
       "2021-01-23  22  20   0   0   0   0   0  20\n",
       "2021-01-24  22   0   0   0   0   0   0  20\n",
       "2021-01-25  22   0   0   0  20   0   0  20\n",
       "2021-01-26   0   0   0   0  20   0   0  20"
      ]
     },
     "execution_count": 65,
     "metadata": {},
     "output_type": "execute_result"
    }
   ],
   "source": [
    "df.applymap(int)"
   ]
  },
  {
   "cell_type": "code",
   "execution_count": 68,
   "id": "c93fb1a8",
   "metadata": {},
   "outputs": [
    {
     "data": {
      "text/plain": [
       "C1    22.000000\n",
       "C2    20.000000\n",
       "C3     0.952872\n",
       "C4     0.901717\n",
       "C5    20.000000\n",
       "C6    20.000000\n",
       "C7     0.938752\n",
       "C8    20.000000\n",
       "dtype: float64"
      ]
     },
     "execution_count": 68,
     "metadata": {},
     "output_type": "execute_result"
    }
   ],
   "source": [
    "# Using Lambda function in Dataframes\n",
    "df.apply(lambda x: max(x))"
   ]
  },
  {
   "cell_type": "code",
   "execution_count": 69,
   "id": "784db462",
   "metadata": {},
   "outputs": [
    {
     "data": {
      "text/plain": [
       "2021-01-20    20.0\n",
       "2021-01-21    20.0\n",
       "2021-01-22    20.0\n",
       "2021-01-23    22.0\n",
       "2021-01-24    22.0\n",
       "2021-01-25    22.0\n",
       "2021-01-26    20.0\n",
       "dtype: float64"
      ]
     },
     "execution_count": 69,
     "metadata": {},
     "output_type": "execute_result"
    }
   ],
   "source": [
    "# Using Lambda function in Rows\n",
    "df.apply(lambda x: max(x), axis = 1)"
   ]
  },
  {
   "cell_type": "markdown",
   "id": "a8d497b2",
   "metadata": {},
   "source": [
    "## Measure of Spread\n",
    "- **Range**\n",
    "- **Interquartile Range (IQR)**\n",
    "- **Standard Deviation**\n",
    "- **Variance**"
   ]
  },
  {
   "cell_type": "markdown",
   "id": "e31b2987",
   "metadata": {},
   "source": [
    "## Inferential Statistics\n",
    "- **Inferential Statistics is about using our collected data to draw conclusions to a larger population.**\n",
    "- **Drawing conclusions about a population based on data collected from a sample of individuals from that population**"
   ]
  },
  {
   "cell_type": "markdown",
   "id": "fe681d2e",
   "metadata": {},
   "source": [
    "#### We looked at specific examples that allowed us to identify the\n",
    "\n",
    "- **Population** - our entire group of interest.\n",
    "- **Parameter** - numeric summary about a population\n",
    "- **Sample** - subset of the population\n",
    "- **Statistic** numeric summary about a sample"
   ]
  },
  {
   "cell_type": "markdown",
   "id": "b6012797",
   "metadata": {},
   "source": [
    "This image indicate the **Inferential Statistics**   <img src=\"inferential statistics.png\" width=500 height=500 />"
   ]
  },
  {
   "cell_type": "markdown",
   "id": "9a5c9a5f",
   "metadata": {},
   "source": [
    "## That's great keep on ✨"
   ]
  }
 ],
 "metadata": {
  "kernelspec": {
   "display_name": "Python 3 (ipykernel)",
   "language": "python",
   "name": "python3"
  },
  "language_info": {
   "codemirror_mode": {
    "name": "ipython",
    "version": 3
   },
   "file_extension": ".py",
   "mimetype": "text/x-python",
   "name": "python",
   "nbconvert_exporter": "python",
   "pygments_lexer": "ipython3",
   "version": "3.9.7"
  }
 },
 "nbformat": 4,
 "nbformat_minor": 5
}
